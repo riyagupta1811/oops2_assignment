{
 "cells": [
  {
   "cell_type": "code",
   "execution_count": 1,
   "id": "06e256cf-7e66-4733-a420-36617aa9d388",
   "metadata": {},
   "outputs": [],
   "source": [
    "#Constructor"
   ]
  },
  {
   "cell_type": "code",
   "execution_count": null,
   "id": "ba2bdcdb-8733-4cce-abb6-e31a7d33b514",
   "metadata": {},
   "outputs": [],
   "source": [
    "# Question1"
   ]
  },
  {
   "cell_type": "markdown",
   "id": "73898c51-3b83-48a0-a602-739a52a9c57f",
   "metadata": {},
   "source": [
    "A constructor in Python is a special method used to initialize objects when they are created from a class. The constructor is typically defined using the __init__ method. It allows you to set initial values for an object's attributes or perform any setup needed when an instance of the class is created.\n",
    "\n",
    "Purpose:\n",
    "1.The primary purpose of a constructor is to initialize the attributes of the new object and ensure that the object is in a valid state when created.\n",
    "2.It is automatically called when a new object is instantiated from a class.\n",
    "\n",
    "Usage:\n",
    "1.Define a Constructor(__init__ method): The constructor method is defined using __init__. The first parameter of __init__ is always self, which refers to the instance of the object being created.\n",
    "2. Set initial values : You can pass arguments to the constructor to initialize instance variables or attributes."
   ]
  },
  {
   "cell_type": "code",
   "execution_count": null,
   "id": "09ab4be3-c7d2-446c-b0dc-fd69b8c852b9",
   "metadata": {},
   "outputs": [],
   "source": [
    "#Question2"
   ]
  },
  {
   "cell_type": "markdown",
   "id": "85b6d716-0527-4ae3-92a4-7bdc8d117f23",
   "metadata": {},
   "source": [
    "PARAMETERLESS CONSTRUCTOR:\n",
    "1.A parameterless constructor is one that does not take any arguments other than self.\n",
    "2. It is used when you want to create an object without needing any external data to initialize the object's attributes.\n",
    "3. The constructor initializes the object with default values.\n",
    "\n",
    "PARAMETERIZED CONSTRUCTOR:\n",
    "1. A parameterized constructor accepts one or more parameters in addition to self, and these parameters are used to initialize the object's attributes with specific values provided at the time of object creation.\n",
    "2. This allows you to create objects with different initial states, based on the values passed."
   ]
  },
  {
   "cell_type": "code",
   "execution_count": null,
   "id": "94c39f55-6dae-408b-b440-cb9c948cd027",
   "metadata": {},
   "outputs": [],
   "source": [
    "#Question 3"
   ]
  },
  {
   "cell_type": "markdown",
   "id": "c85ccd5e-0109-4d89-96e8-0dfd609434a3",
   "metadata": {},
   "source": [
    "In Python, a constructor is defined using the special method __init__. The __init__ method is automatically called when a new object (instance) of the class is created. It is used to initialize the object's attributes with specific values or set up the initial state of the object."
   ]
  },
  {
   "cell_type": "code",
   "execution_count": 2,
   "id": "f516ef45-42be-4615-b74a-a6e1c7ade364",
   "metadata": {},
   "outputs": [
    {
     "name": "stdout",
     "output_type": "stream",
     "text": [
      "Name: Alice, Age: 25\n"
     ]
    }
   ],
   "source": [
    "class Person:\n",
    "    def __init__(self, name, age):\n",
    "        self.name = name\n",
    "        self.age = age\n",
    "\n",
    "    def display(self):\n",
    "        print(f\"Name: {self.name}, Age: {self.age}\")\n",
    "\n",
    "person1 = Person(\"Alice\", 25)\n",
    "\n",
    "person1.display()\n"
   ]
  },
  {
   "cell_type": "code",
   "execution_count": null,
   "id": "b3e54812-8af0-4585-9ca5-322c8909dc34",
   "metadata": {},
   "outputs": [],
   "source": [
    "#Question 4"
   ]
  },
  {
   "cell_type": "markdown",
   "id": "ef97ad43-998d-46cc-92d2-de054ab93e9a",
   "metadata": {},
   "source": [
    "The __init__ method in Python is a special method used to initialize a newly created object. It is known as the constructor in Python. When an object (instance) of a class is created, Python automatically calls the __init__ method to initialize the object's attributes and set it up with the necessary initial state.\n",
    "\n",
    "Role of the __init() method :\n",
    "1. Initialization of object attributes:\n",
    "    The __init__ method is used to initialize the attributes (or properties) of the object when it is created. It takes arguments that can be used to set up these attributes based on the input provided when creating the object.\n",
    "\n",
    "2.Automatic Invocation :\n",
    "    The __init__ method is automatically called when you create an instance of a class. You do not need to manually invoke it. This makes the object initialization process seamless.\n",
    "\n",
    "3. Customization:\n",
    " You can customize the initialization process based on the arguments passed to the constructor. This allows you to create different instances of the same class with different values or states."
   ]
  },
  {
   "cell_type": "code",
   "execution_count": null,
   "id": "e1769850-357b-4497-9dd2-c75d60c73ec9",
   "metadata": {},
   "outputs": [],
   "source": [
    "#Question 5"
   ]
  },
  {
   "cell_type": "code",
   "execution_count": 3,
   "id": "b3e9d15f-8911-47c6-a5ff-aa886e9a2d4c",
   "metadata": {},
   "outputs": [
    {
     "name": "stdout",
     "output_type": "stream",
     "text": [
      "Name: John, Age: 30\n"
     ]
    }
   ],
   "source": [
    "class Person:\n",
    "    def __init__(self, name, age):\n",
    "        self.name = name\n",
    "        self.age = age\n",
    "\n",
    "    def display(self):\n",
    "        print(f\"Name: {self.name}, Age: {self.age}\")\n",
    "\n",
    "person1 = Person(\"John\", 30)\n",
    "\n",
    "person1.display()\n"
   ]
  },
  {
   "cell_type": "code",
   "execution_count": null,
   "id": "e5ad0663-01ee-415e-883b-1fd2e30dd1a0",
   "metadata": {},
   "outputs": [],
   "source": [
    "#Question 6"
   ]
  },
  {
   "cell_type": "code",
   "execution_count": 4,
   "id": "c9b48c36-1374-4373-b4a6-c0ef0ffa2dd8",
   "metadata": {},
   "outputs": [
    {
     "name": "stdout",
     "output_type": "stream",
     "text": [
      "Name: Alice, Age: 25\n"
     ]
    }
   ],
   "source": [
    "class Person:\n",
    "    def __init__(self, name, age):\n",
    "        self.name = name\n",
    "        self.age = age\n",
    "\n",
    "    def display(self):\n",
    "        print(f\"Name: {self.name}, Age: {self.age}\")\n",
    "\n",
    "person1 = Person(\"John\", 30)\n",
    "\n",
    "person2 = Person.__new__(Person) \n",
    "person2.__init__(\"Alice\", 25)   \n",
    "\n",
    "person2.display()\n"
   ]
  },
  {
   "cell_type": "code",
   "execution_count": null,
   "id": "55294635-db46-4ce6-aa8c-68f2106b36d3",
   "metadata": {},
   "outputs": [],
   "source": [
    "#Question 7"
   ]
  },
  {
   "cell_type": "markdown",
   "id": "099fdb77-9d47-48b4-87f7-3660b9577a46",
   "metadata": {},
   "source": [
    "The self parameter refers to the current instance of the class. It is used to access and modify the attributes and methods of the instance. In constructors, self allows you to assign values to the instance variables for the newly created object."
   ]
  },
  {
   "cell_type": "code",
   "execution_count": 5,
   "id": "b116cea0-1533-4d05-b63b-e740a21d2f73",
   "metadata": {},
   "outputs": [
    {
     "name": "stdout",
     "output_type": "stream",
     "text": [
      "John\n"
     ]
    }
   ],
   "source": [
    "class Person:\n",
    "    def __init__(self, name, age):\n",
    "        self.name = name \n",
    "        self.age = age   \n",
    "\n",
    "person1 = Person(\"John\", 30)\n",
    "print(person1.name) \n"
   ]
  },
  {
   "cell_type": "code",
   "execution_count": null,
   "id": "7e4055a7-9a16-45f6-9986-93eff77f9fc3",
   "metadata": {},
   "outputs": [],
   "source": [
    "#Question 8"
   ]
  },
  {
   "cell_type": "markdown",
   "id": "e9ced666-f841-4adf-9bd2-093a9fa630a9",
   "metadata": {},
   "source": [
    "A default constructor is a constructor that does not accept parameters or has default values for its parameters. It initializes object attributes with default values when no arguments are provided."
   ]
  },
  {
   "cell_type": "code",
   "execution_count": 8,
   "id": "bbf11c05-3c0e-4cf9-a82f-830853f04f78",
   "metadata": {},
   "outputs": [
    {
     "name": "stdout",
     "output_type": "stream",
     "text": [
      "Riya 22\n"
     ]
    }
   ],
   "source": [
    "class Person:\n",
    "    def __init__(self, name=\"Riya\", age=22):\n",
    "        self.name = name\n",
    "        self.age = age\n",
    "\n",
    "person1 = Person()  # Using default constructor\n",
    "\n",
    "print(person1.name, person1.age)\n"
   ]
  },
  {
   "cell_type": "code",
   "execution_count": null,
   "id": "e3a93b26-4471-49e2-bcd6-9f06e694d0a1",
   "metadata": {},
   "outputs": [],
   "source": [
    "#Question 9"
   ]
  },
  {
   "cell_type": "code",
   "execution_count": 9,
   "id": "39169664-ccec-48df-8b1b-c040d2c43f31",
   "metadata": {},
   "outputs": [
    {
     "name": "stdout",
     "output_type": "stream",
     "text": [
      "Area of rectangle: 50\n"
     ]
    }
   ],
   "source": [
    "class Rectangle:\n",
    "    def __init__(self, width, height):\n",
    "        self.width = width\n",
    "        self.height = height\n",
    "\n",
    "    def area(self):\n",
    "        return self.width * self.height\n",
    "\n",
    "rect = Rectangle(5, 10)\n",
    "print(\"Area of rectangle:\", rect.area())\n"
   ]
  },
  {
   "cell_type": "code",
   "execution_count": null,
   "id": "14a9dc06-dc7d-47bf-969f-ad34e47c59af",
   "metadata": {},
   "outputs": [],
   "source": [
    "#question 10"
   ]
  },
  {
   "cell_type": "markdown",
   "id": "5e3c30fd-fbb6-43b0-8fa1-c9e58812a80c",
   "metadata": {},
   "source": [
    "Python does not support multiple constructors directly, but you can simulate them by using default arguments or class methods as alternative constructors."
   ]
  },
  {
   "cell_type": "code",
   "execution_count": 10,
   "id": "fb471736-2c89-4e4a-8cc1-7d5fea7a6c63",
   "metadata": {},
   "outputs": [
    {
     "name": "stdout",
     "output_type": "stream",
     "text": [
      "Area of rect1: 50, Area of rect2: 16\n"
     ]
    }
   ],
   "source": [
    "class Rectangle:\n",
    "    def __init__(self, width=0, height=0):\n",
    "        self.width = width\n",
    "        self.height = height\n",
    "\n",
    "    @classmethod\n",
    "    def from_square(cls, side):\n",
    "        return cls(side, side)\n",
    "\n",
    "rect1 = Rectangle(5, 10)\n",
    "\n",
    "rect2 = Rectangle.from_square(4)\n",
    "print(f\"Area of rect1: {rect1.width * rect1.height}, Area of rect2: {rect2.width * rect2.height}\")\n"
   ]
  },
  {
   "cell_type": "code",
   "execution_count": null,
   "id": "9174f947-077e-4f04-baa8-bf476b1e3131",
   "metadata": {},
   "outputs": [],
   "source": [
    "#Question 11"
   ]
  },
  {
   "cell_type": "markdown",
   "id": "9a3f67fe-04f8-45cb-b796-e5feec147bf1",
   "metadata": {},
   "source": [
    "Method Overloading refers to defining multiple methods with the same name but different parameters. Python does not support traditional method overloading, but you can achieve similar functionality using default arguments or variable-length argument lists."
   ]
  },
  {
   "cell_type": "code",
   "execution_count": null,
   "id": "a33b2014-5806-4a79-ab03-a00d98ce7788",
   "metadata": {},
   "outputs": [],
   "source": [
    "#Question 12"
   ]
  },
  {
   "cell_type": "markdown",
   "id": "d57f0324-d3f7-42cd-bb8e-0f080c91e1f2",
   "metadata": {},
   "source": [
    "The super() function allows you to call methods from a parent class. In constructors, it’s used to call the constructor of the parent class."
   ]
  },
  {
   "cell_type": "code",
   "execution_count": 11,
   "id": "6ee57b28-9e5e-424b-a65a-89dbd9abe6f7",
   "metadata": {},
   "outputs": [
    {
     "name": "stdout",
     "output_type": "stream",
     "text": [
      "Buddy is a Golden Retriever\n"
     ]
    }
   ],
   "source": [
    "class Animal:\n",
    "    def __init__(self, name):\n",
    "        self.name = name\n",
    "\n",
    "class Dog(Animal):\n",
    "    def __init__(self, name, breed):\n",
    "        super().__init__(name)\n",
    "        self.breed = breed\n",
    "\n",
    "dog1 = Dog(\"Buddy\", \"Golden Retriever\")\n",
    "print(f\"{dog1.name} is a {dog1.breed}\")\n"
   ]
  },
  {
   "cell_type": "code",
   "execution_count": null,
   "id": "1b0bfa25-7975-417e-83c6-2e5ecb2c2634",
   "metadata": {},
   "outputs": [],
   "source": [
    "#Question 13"
   ]
  },
  {
   "cell_type": "code",
   "execution_count": 12,
   "id": "c111e2d3-7981-4992-aeea-ba2bc4dc1882",
   "metadata": {},
   "outputs": [
    {
     "name": "stdout",
     "output_type": "stream",
     "text": [
      "Title: 1984, Author: George Orwell, Published Year: 1949\n"
     ]
    }
   ],
   "source": [
    "class Book:\n",
    "    def __init__(self, title, author, published_year):\n",
    "        self.title = title\n",
    "        self.author = author\n",
    "        self.published_year = published_year\n",
    "\n",
    "    def display_details(self):\n",
    "        print(f\"Title: {self.title}, Author: {self.author}, Published Year: {self.published_year}\")\n",
    "\n",
    "book1 = Book(\"1984\", \"George Orwell\", 1949)\n",
    "book1.display_details()\n"
   ]
  },
  {
   "cell_type": "code",
   "execution_count": null,
   "id": "a4554346-1c1a-425d-ae69-0ffe8541a384",
   "metadata": {},
   "outputs": [],
   "source": [
    "#question 14"
   ]
  },
  {
   "cell_type": "markdown",
   "id": "622c8484-ae99-494c-9b2d-94a4eddc0712",
   "metadata": {},
   "source": [
    "CONSTRUCTORS:\n",
    "Constructors  are special methods used to initialize the object when it is created. They are defined by __init__.\n",
    "\n",
    "REGULAR METHODS :\n",
    "Regular methods  are used to define behavior for the objects and are called explicitly using the object instance.\n"
   ]
  },
  {
   "cell_type": "code",
   "execution_count": null,
   "id": "51098759-38db-40fc-b1b7-7962c5d3984e",
   "metadata": {},
   "outputs": [],
   "source": [
    "#question 15"
   ]
  },
  {
   "cell_type": "markdown",
   "id": "d9545aab-6380-41b6-b249-f0a3c827ab30",
   "metadata": {},
   "source": [
    "The self parameter allows the constructor to set or access the instance variables, making them specific to the instance of the class being created."
   ]
  },
  {
   "cell_type": "code",
   "execution_count": null,
   "id": "964777a6-523d-4ca4-9bc5-5d2402761716",
   "metadata": {},
   "outputs": [],
   "source": [
    "#question 16"
   ]
  },
  {
   "cell_type": "code",
   "execution_count": 13,
   "id": "6e4bb82c-5c30-424a-8294-d898f36cda3c",
   "metadata": {},
   "outputs": [
    {
     "name": "stdout",
     "output_type": "stream",
     "text": [
      "True\n"
     ]
    }
   ],
   "source": [
    "class Singleton:\n",
    "    _instance = None\n",
    "\n",
    "    def __new__(cls):\n",
    "        if not cls._instance:\n",
    "            cls._instance = super().__new__(cls)\n",
    "        return cls._instance\n",
    "\n",
    "singleton1 = Singleton()\n",
    "singleton2 = Singleton()\n",
    "print(singleton1 is singleton2) "
   ]
  },
  {
   "cell_type": "code",
   "execution_count": null,
   "id": "b27848f5-f964-439b-b435-6cf7acbcbfb0",
   "metadata": {},
   "outputs": [],
   "source": [
    "#question 17"
   ]
  },
  {
   "cell_type": "code",
   "execution_count": 14,
   "id": "916ed410-ddee-4ccb-9b5c-7e7aa13cd353",
   "metadata": {},
   "outputs": [
    {
     "name": "stdout",
     "output_type": "stream",
     "text": [
      "Subjects: Math, Science, History\n"
     ]
    }
   ],
   "source": [
    "class Student:\n",
    "    def __init__(self, subjects):\n",
    "        self.subjects = subjects\n",
    "\n",
    "    def display_subjects(self):\n",
    "        print(\"Subjects:\", \", \".join(self.subjects))\n",
    "\n",
    "student = Student([\"Math\", \"Science\", \"History\"])\n",
    "student.display_subjects()\n"
   ]
  },
  {
   "cell_type": "code",
   "execution_count": null,
   "id": "bc6e28f1-30bf-4cf0-ae02-2ca2dde9bbbf",
   "metadata": {},
   "outputs": [],
   "source": [
    "#question 18"
   ]
  },
  {
   "cell_type": "markdown",
   "id": "62e7e096-03b7-4110-bb53-8a036e70408e",
   "metadata": {},
   "source": [
    "The __del__ method is a destructor. It is called when an object is about to be destroyed, and is used to clean up resources. It is the opposite of the constructor (__init__)."
   ]
  },
  {
   "cell_type": "code",
   "execution_count": null,
   "id": "b624ba5d-0d5e-49f2-a005-4db3caebf5e2",
   "metadata": {},
   "outputs": [],
   "source": [
    "#question 19"
   ]
  },
  {
   "cell_type": "markdown",
   "id": "de25b35d-9109-4488-882d-7f82e671750d",
   "metadata": {},
   "source": [
    "Constructor chaining involves calling one constructor from another within the same class or a derived class. It can be used to avoid code duplication."
   ]
  },
  {
   "cell_type": "code",
   "execution_count": 15,
   "id": "c7602ee1-d1b3-43c3-b26e-9f5e96ff56ae",
   "metadata": {},
   "outputs": [
    {
     "name": "stdout",
     "output_type": "stream",
     "text": [
      "Buddy is a Golden Retriever\n"
     ]
    }
   ],
   "source": [
    "class Animal:\n",
    "    def __init__(self, name):\n",
    "        self.name = name\n",
    "\n",
    "class Dog(Animal):\n",
    "    def __init__(self, name, breed):\n",
    "        super().__init__(name) \n",
    "        self.breed = breed\n",
    "\n",
    "dog = Dog(\"Buddy\", \"Golden Retriever\")\n",
    "print(f\"{dog.name} is a {dog.breed}\")\n"
   ]
  },
  {
   "cell_type": "code",
   "execution_count": null,
   "id": "0f42a95b-6c28-42ba-b0c2-2ce4668c4c61",
   "metadata": {},
   "outputs": [],
   "source": [
    "#question 20"
   ]
  },
  {
   "cell_type": "code",
   "execution_count": 16,
   "id": "948478b3-63aa-4702-8a82-57fb36f093f5",
   "metadata": {},
   "outputs": [
    {
     "name": "stdout",
     "output_type": "stream",
     "text": [
      "Car Make: Toyota, Model: Corolla\n"
     ]
    }
   ],
   "source": [
    "class Car:\n",
    "    def __init__(self, make=\"Toyota\", model=\"Corolla\"):\n",
    "        self.make = make\n",
    "        self.model = model\n",
    "\n",
    "    def display_info(self):\n",
    "        print(f\"Car Make: {self.make}, Model: {self.model}\")\n",
    "\n",
    "car1 = Car()\n",
    "car1.display_info()\n"
   ]
  },
  {
   "cell_type": "code",
   "execution_count": null,
   "id": "c9ca6d43-26d0-474f-a61e-ba1b986c84ba",
   "metadata": {},
   "outputs": [],
   "source": [
    "# INHERITANCE"
   ]
  },
  {
   "cell_type": "code",
   "execution_count": null,
   "id": "a6ebf76f-82c4-4ebe-824a-ce559b1b06dd",
   "metadata": {},
   "outputs": [],
   "source": [
    "#question 1"
   ]
  },
  {
   "cell_type": "markdown",
   "id": "5fa41a3f-612d-492a-930b-5a5dbf7c4a8a",
   "metadata": {},
   "source": [
    "Inheritance is a fundamental concept in object-oriented programming (OOP) that allows a class (called the child class) to inherit attributes and methods from another class (called the parent class). In Python, inheritance helps in reusing code and creating a hierarchical class structure.\n",
    "\n",
    "SIGNIFICANCE:\n",
    " Inheritance promotes code reusability, modularity, and a clear class hierarchy. It allows new classes to inherit functionality from existing classes and then extend or modify that functionality.\n"
   ]
  },
  {
   "cell_type": "code",
   "execution_count": null,
   "id": "d689d1e8-dd03-40fe-b72a-1a3ee9588ecb",
   "metadata": {},
   "outputs": [],
   "source": [
    "#question 2"
   ]
  },
  {
   "cell_type": "markdown",
   "id": "55de6022-72f3-4b18-9f21-75ad88b3cad9",
   "metadata": {},
   "source": [
    "In single inheritance, a child class inherits from one parent class."
   ]
  },
  {
   "cell_type": "code",
   "execution_count": 17,
   "id": "7d958a2d-dc5a-482e-9bd4-dfabc6eca830",
   "metadata": {},
   "outputs": [
    {
     "name": "stdout",
     "output_type": "stream",
     "text": [
      "Animal speaks\n"
     ]
    }
   ],
   "source": [
    "class Animal:\n",
    "    def speak(self):\n",
    "        print(\"Animal speaks\")\n",
    "\n",
    "class Dog(Animal):\n",
    "    pass\n",
    "\n",
    "dog = Dog()\n",
    "dog.speak() \n"
   ]
  },
  {
   "cell_type": "markdown",
   "id": "be3a80bd-ba52-4a21-9bf8-8fbc744b8618",
   "metadata": {},
   "source": [
    " In multiple inheritance, a child class inherits from more than one parent class."
   ]
  },
  {
   "cell_type": "code",
   "execution_count": 18,
   "id": "9e4c6343-2833-45d8-b9f8-17ab07530104",
   "metadata": {},
   "outputs": [
    {
     "name": "stdout",
     "output_type": "stream",
     "text": [
      "Animal speaks\n",
      "Vehicle moves\n"
     ]
    }
   ],
   "source": [
    "class Animal:\n",
    "    def speak(self):\n",
    "        print(\"Animal speaks\")\n",
    "\n",
    "class Vehicle:\n",
    "    def move(self):\n",
    "        print(\"Vehicle moves\")\n",
    "\n",
    "class Dog(Animal, Vehicle):\n",
    "    pass\n",
    "\n",
    "dog = Dog()\n",
    "dog.speak() \n",
    "dog.move() \n"
   ]
  },
  {
   "cell_type": "code",
   "execution_count": null,
   "id": "b57b1e22-3cc3-47bb-9c7d-8fa8b6f913bd",
   "metadata": {},
   "outputs": [],
   "source": [
    "#question 3"
   ]
  },
  {
   "cell_type": "code",
   "execution_count": 19,
   "id": "49a38156-e433-497b-9723-2bf338d37ee8",
   "metadata": {},
   "outputs": [
    {
     "name": "stdout",
     "output_type": "stream",
     "text": [
      "Car brand: Toyota, Color: Red, Speed: 150\n"
     ]
    }
   ],
   "source": [
    "class Vehicle:\n",
    "    def __init__(self, color, speed):\n",
    "        self.color = color\n",
    "        self.speed = speed\n",
    "\n",
    "class Car(Vehicle):\n",
    "    def __init__(self, color, speed, brand):\n",
    "        super().__init__(color, speed)  \n",
    "        self.brand = brand\n",
    "\n",
    "car = Car(\"Red\", 150, \"Toyota\")\n",
    "print(f\"Car brand: {car.brand}, Color: {car.color}, Speed: {car.speed}\")\n"
   ]
  },
  {
   "cell_type": "code",
   "execution_count": null,
   "id": "a074ef5b-95bd-46bc-acdc-301f26be94d2",
   "metadata": {},
   "outputs": [],
   "source": [
    "#question  4"
   ]
  },
  {
   "cell_type": "markdown",
   "id": "663b0270-3421-4219-bc4d-337fa9dce0dd",
   "metadata": {},
   "source": [
    "Method Overriding occurs when a child class provides a specific implementation of a method that is already defined in its parent class. The child class's method overrides the parent class's method."
   ]
  },
  {
   "cell_type": "code",
   "execution_count": 20,
   "id": "263a3169-60db-4320-9bbb-c7fd7a390042",
   "metadata": {},
   "outputs": [
    {
     "name": "stdout",
     "output_type": "stream",
     "text": [
      "Dog barks\n"
     ]
    }
   ],
   "source": [
    "class Animal:\n",
    "    def speak(self):\n",
    "        print(\"Animal speaks\")\n",
    "\n",
    "class Dog(Animal):\n",
    "    def speak(self):\n",
    "        print(\"Dog barks\")\n",
    "\n",
    "dog = Dog()\n",
    "dog.speak() "
   ]
  },
  {
   "cell_type": "code",
   "execution_count": null,
   "id": "fc1e4096-a4be-47e2-be1c-145cc0e7059c",
   "metadata": {},
   "outputs": [],
   "source": [
    "#question 5"
   ]
  },
  {
   "cell_type": "markdown",
   "id": "29a4f997-afa1-42a6-8284-e2bf8c1b3b0b",
   "metadata": {},
   "source": [
    "You can use the super() function to access methods and attributes from the parent class."
   ]
  },
  {
   "cell_type": "code",
   "execution_count": 21,
   "id": "45ceaccf-537a-4836-aff5-d8cba02ce00f",
   "metadata": {},
   "outputs": [
    {
     "name": "stdout",
     "output_type": "stream",
     "text": [
      "Buddy makes a sound\n",
      "Buddy barks\n"
     ]
    }
   ],
   "source": [
    "class Animal:\n",
    "    def __init__(self, name):\n",
    "        self.name = name\n",
    "\n",
    "    def speak(self):\n",
    "        print(f\"{self.name} makes a sound\")\n",
    "\n",
    "class Dog(Animal):\n",
    "    def __init__(self, name, breed):\n",
    "        super().__init__(name) \n",
    "        self.breed = breed\n",
    "\n",
    "    def speak(self):\n",
    "        super().speak()\n",
    "        print(f\"{self.name} barks\")\n",
    "\n",
    "dog = Dog(\"Buddy\", \"Golden Retriever\")\n",
    "dog.speak()\n"
   ]
  },
  {
   "cell_type": "code",
   "execution_count": null,
   "id": "0f6ae782-7713-4e7d-b508-21abc874d623",
   "metadata": {},
   "outputs": [],
   "source": [
    "#question 6"
   ]
  },
  {
   "cell_type": "markdown",
   "id": "c3a3f89d-f7ee-4547-946f-f0413897260e",
   "metadata": {},
   "source": [
    "The super() function is used to call methods or constructors from a parent class. It is mainly used when you want to extend the functionality of a method from a parent class in a child class."
   ]
  },
  {
   "cell_type": "code",
   "execution_count": 26,
   "id": "39c2c9c1-f7f8-4780-a4a0-2bf8291be5b7",
   "metadata": {},
   "outputs": [],
   "source": [
    "class Animal:\n",
    "    def __init__(self, name):\n",
    "        self.name = name\n",
    "\n",
    "class Dog(Animal):\n",
    "    def __init__(self, name, breed):\n",
    "        super().__init__(name) \n",
    "        self.breed = breed\n",
    "\n",
    "dog = Dog(\"Buddy\", \"Golden Retriever\")\n"
   ]
  },
  {
   "cell_type": "code",
   "execution_count": null,
   "id": "4797a79f-67b4-4c4a-975e-21ffae34052d",
   "metadata": {},
   "outputs": [],
   "source": [
    "#question 7"
   ]
  },
  {
   "cell_type": "code",
   "execution_count": 27,
   "id": "600028eb-bcc2-46a0-bfdf-4cb4ebb0778d",
   "metadata": {},
   "outputs": [
    {
     "name": "stdout",
     "output_type": "stream",
     "text": [
      "Dog barks\n",
      "Cat meows\n"
     ]
    }
   ],
   "source": [
    "class Animal:\n",
    "    def speak(self):\n",
    "        pass\n",
    "\n",
    "class Dog(Animal):\n",
    "    def speak(self):\n",
    "        print(\"Dog barks\")\n",
    "\n",
    "class Cat(Animal):\n",
    "    def speak(self):\n",
    "        print(\"Cat meows\")\n",
    "\n",
    "dog = Dog()\n",
    "dog.speak()\n",
    "\n",
    "cat = Cat()\n",
    "cat.speak()\n"
   ]
  },
  {
   "cell_type": "code",
   "execution_count": null,
   "id": "b0cdc898-382b-48fa-ac51-7347cf94e5e2",
   "metadata": {},
   "outputs": [],
   "source": [
    "#question 8"
   ]
  },
  {
   "cell_type": "markdown",
   "id": "346b2c11-0b41-43e8-92a2-36fb34723968",
   "metadata": {},
   "source": [
    "isinstance() checks if an object is an instance of a class or a subclass of that class."
   ]
  },
  {
   "cell_type": "code",
   "execution_count": 28,
   "id": "6bfd5f22-9a14-4b36-8e1f-37265258f3fc",
   "metadata": {},
   "outputs": [
    {
     "name": "stdout",
     "output_type": "stream",
     "text": [
      "True\n",
      "True\n"
     ]
    }
   ],
   "source": [
    "class Animal:\n",
    "    pass\n",
    "\n",
    "class Dog(Animal):\n",
    "    pass\n",
    "\n",
    "dog = Dog()\n",
    "\n",
    "print(isinstance(dog, Dog)) \n",
    "print(isinstance(dog, Animal))\n"
   ]
  },
  {
   "cell_type": "code",
   "execution_count": null,
   "id": "9627a65d-368d-4362-953c-5bbda458fb82",
   "metadata": {},
   "outputs": [],
   "source": [
    "#question 9"
   ]
  },
  {
   "cell_type": "markdown",
   "id": "0af1afe0-e0b5-4958-a867-67e06cac092c",
   "metadata": {},
   "source": [
    "issubclass() checks if a class is a subclass of another class."
   ]
  },
  {
   "cell_type": "code",
   "execution_count": 29,
   "id": "e5714242-376e-4186-8fcf-61a3b86f57f7",
   "metadata": {},
   "outputs": [
    {
     "name": "stdout",
     "output_type": "stream",
     "text": [
      "True\n",
      "True\n"
     ]
    }
   ],
   "source": [
    "class Animal:\n",
    "    pass\n",
    "\n",
    "class Dog(Animal):\n",
    "    pass\n",
    "\n",
    "print(issubclass(Dog, Animal))  \n",
    "print(issubclass(Dog, object)) "
   ]
  },
  {
   "cell_type": "code",
   "execution_count": null,
   "id": "bd1dbda3-6442-4bd9-9fcf-0a2ea6e689f5",
   "metadata": {},
   "outputs": [],
   "source": [
    "#question 10"
   ]
  },
  {
   "cell_type": "markdown",
   "id": "c90c72fd-08a0-452a-b283-fe95dcee26ae",
   "metadata": {},
   "source": [
    "In Python, constructors are inherited, but the child class can override the constructor. The child class can call the parent class constructor using super()."
   ]
  },
  {
   "cell_type": "code",
   "execution_count": 30,
   "id": "b81ca042-e352-44b7-bd70-bbf77457d303",
   "metadata": {},
   "outputs": [
    {
     "name": "stdout",
     "output_type": "stream",
     "text": [
      "Buddy Golden Retriever\n"
     ]
    }
   ],
   "source": [
    "class Animal:\n",
    "    def __init__(self, name):\n",
    "        self.name = name\n",
    "\n",
    "class Dog(Animal):\n",
    "    def __init__(self, name, breed):\n",
    "        super().__init__(name)\n",
    "        self.breed = breed\n",
    "\n",
    "dog = Dog(\"Buddy\", \"Golden Retriever\")\n",
    "print(dog.name, dog.breed)\n"
   ]
  },
  {
   "cell_type": "code",
   "execution_count": null,
   "id": "167271b2-5612-4985-856a-09a5e034d035",
   "metadata": {},
   "outputs": [],
   "source": [
    "#question 11"
   ]
  },
  {
   "cell_type": "code",
   "execution_count": 31,
   "id": "d32a3705-6d76-4127-bfc5-467a722b227a",
   "metadata": {},
   "outputs": [
    {
     "name": "stdout",
     "output_type": "stream",
     "text": [
      "Circle area: 78.53981633974483\n",
      "Rectangle area: 24\n"
     ]
    }
   ],
   "source": [
    "import math\n",
    "\n",
    "class Shape:\n",
    "    def area(self):\n",
    "        pass\n",
    "\n",
    "class Circle(Shape):\n",
    "    def __init__(self, radius):\n",
    "        self.radius = radius\n",
    "\n",
    "    def area(self):\n",
    "        return math.pi * (self.radius ** 2)\n",
    "\n",
    "class Rectangle(Shape):\n",
    "    def __init__(self, width, height):\n",
    "        self.width = width\n",
    "        self.height = height\n",
    "\n",
    "    def area(self):\n",
    "        return self.width * self.height\n",
    "\n",
    "circle = Circle(5)\n",
    "rectangle = Rectangle(4, 6)\n",
    "\n",
    "print(\"Circle area:\", circle.area())\n",
    "print(\"Rectangle area:\", rectangle.area())\n"
   ]
  },
  {
   "cell_type": "code",
   "execution_count": null,
   "id": "f9741b59-3f2d-4203-b578-308f98190953",
   "metadata": {},
   "outputs": [],
   "source": [
    "#question 12"
   ]
  },
  {
   "cell_type": "markdown",
   "id": "184af5c8-a3dd-47dd-8217-772b7b97d931",
   "metadata": {},
   "source": [
    "An Abstract Base Class (ABC) defines a common interface for its subclasses, which must implement specific methods. The abc module is used to create abstract classes in Python."
   ]
  },
  {
   "cell_type": "code",
   "execution_count": 32,
   "id": "860dd1a7-a6c8-4f68-97a7-b6450a1517c8",
   "metadata": {},
   "outputs": [
    {
     "name": "stdout",
     "output_type": "stream",
     "text": [
      "Dog barks\n"
     ]
    }
   ],
   "source": [
    "from abc import ABC, abstractmethod\n",
    "\n",
    "class Animal(ABC):\n",
    "    @abstractmethod\n",
    "    def speak(self):\n",
    "        pass\n",
    "\n",
    "class Dog(Animal):\n",
    "    def speak(self):\n",
    "        print(\"Dog barks\")\n",
    "\n",
    "dog = Dog()\n",
    "dog.speak()"
   ]
  },
  {
   "cell_type": "code",
   "execution_count": null,
   "id": "a93bf9c1-eb7c-49a4-9f1f-a6647749be3b",
   "metadata": {},
   "outputs": [],
   "source": [
    "#question 13"
   ]
  },
  {
   "cell_type": "markdown",
   "id": "1f1e79a9-4554-44c9-b9be-692662d6519a",
   "metadata": {},
   "source": [
    "You can prevent modification by using the @property decorator or marking methods as final(using a custom decorator or convention)."
   ]
  },
  {
   "cell_type": "code",
   "execution_count": null,
   "id": "d684d453-2ea0-46d7-b4b8-aaccbabb08b1",
   "metadata": {},
   "outputs": [],
   "source": [
    "#question 14"
   ]
  },
  {
   "cell_type": "code",
   "execution_count": 33,
   "id": "a7bf6aaf-7335-4ba2-9bce-41da02e6a134",
   "metadata": {},
   "outputs": [
    {
     "name": "stdout",
     "output_type": "stream",
     "text": [
      "Alice 60000 HR\n"
     ]
    }
   ],
   "source": [
    "class Employee:\n",
    "    def __init__(self, name, salary):\n",
    "        self.name = name\n",
    "        self.salary = salary\n",
    "\n",
    "class Manager(Employee):\n",
    "    def __init__(self, name, salary, department):\n",
    "        super().__init__(name, salary)\n",
    "        self.department = department\n",
    "\n",
    "manager = Manager(\"Alice\", 60000, \"HR\")\n",
    "print(manager.name, manager.salary, manager.department)"
   ]
  },
  {
   "cell_type": "code",
   "execution_count": null,
   "id": "26f94cab-9691-40f9-86a8-0129e3aa276e",
   "metadata": {},
   "outputs": [],
   "source": [
    "#question 15"
   ]
  },
  {
   "cell_type": "markdown",
   "id": "e723189d-b3cf-4536-ac52-e45cdb74310d",
   "metadata": {},
   "source": [
    "Python does not support traditional method overloading, but you can simulate it using default arguments. Method overriding is when a child class provides a new implementation for an inherited method, while overloading would be defining multiple methods with the same name but different arguments (simulated using default parameters)."
   ]
  },
  {
   "cell_type": "code",
   "execution_count": null,
   "id": "6a4c4fa4-f366-4f7c-b89f-4d294d20b3ba",
   "metadata": {},
   "outputs": [],
   "source": [
    "#question 16"
   ]
  },
  {
   "cell_type": "markdown",
   "id": "47641d42-bebf-40e9-9749-4907f7dded5d",
   "metadata": {},
   "source": [
    "The __init__() method initializes an object’s attributes. In inheritance, the child class can call the parent class’s __init__() method using super() to initialize inherited attributes."
   ]
  },
  {
   "cell_type": "code",
   "execution_count": null,
   "id": "4fc665a6-b76d-411b-941a-0f088c236205",
   "metadata": {},
   "outputs": [],
   "source": [
    "#question 17"
   ]
  },
  {
   "cell_type": "code",
   "execution_count": 34,
   "id": "af09233c-9d13-412e-9c9f-a9f9a1cadd3c",
   "metadata": {},
   "outputs": [
    {
     "name": "stdout",
     "output_type": "stream",
     "text": [
      "Eagle soars high\n",
      "Sparrow flies swiftly\n"
     ]
    }
   ],
   "source": [
    "class Bird:\n",
    "    def fly(self):\n",
    "        pass\n",
    "\n",
    "class Eagle(Bird):\n",
    "    def fly(self):\n",
    "        print(\"Eagle soars high\")\n",
    "\n",
    "class Sparrow(Bird):\n",
    "    def fly(self):\n",
    "        print(\"Sparrow flies swiftly\")\n",
    "\n",
    "eagle = Eagle()\n",
    "sparrow = Sparrow()\n",
    "\n",
    "eagle.fly()\n",
    "sparrow.fly()\n"
   ]
  },
  {
   "cell_type": "code",
   "execution_count": null,
   "id": "7c7f37f2-7e8b-42f9-8883-e9a0e18ce173",
   "metadata": {},
   "outputs": [],
   "source": [
    "#question 18"
   ]
  },
  {
   "cell_type": "markdown",
   "id": "8b932f50-78b5-4afd-b4d0-03d63871187a",
   "metadata": {},
   "source": [
    "The diamond problem occurs when a class inherits from two classes that both inherit from the same parent class, causing ambiguity in method resolution. Python resolves this using the C3 Linearization algorithm, which ensures a consistent method resolution order."
   ]
  },
  {
   "cell_type": "code",
   "execution_count": null,
   "id": "6e2b317d-c88a-436a-93cd-e49be8390a20",
   "metadata": {},
   "outputs": [],
   "source": [
    "#question 19"
   ]
  },
  {
   "cell_type": "markdown",
   "id": "0bcdd58e-7410-4af3-9569-8af32729531b",
   "metadata": {},
   "source": [
    "\"is-a\":  A subclass is a type of the parent class.\n",
    "Example: A Dog is-a Animal.\n",
    "\n",
    "\"has-a\":  A class has a relationship with another class via attributes.\n",
    "\n",
    "Example: A Car has-a Engine."
   ]
  },
  {
   "cell_type": "code",
   "execution_count": null,
   "id": "30973fab-4dbe-4c28-82f8-b9da2a1004fb",
   "metadata": {},
   "outputs": [],
   "source": [
    "#question 20"
   ]
  },
  {
   "cell_type": "code",
   "execution_count": 35,
   "id": "47d8bd65-052a-43e0-ac7e-7dda26dffbad",
   "metadata": {},
   "outputs": [
    {
     "name": "stdout",
     "output_type": "stream",
     "text": [
      "John is studying\n",
      "Dr. Smith is teaching\n"
     ]
    }
   ],
   "source": [
    "class Person:\n",
    "    def __init__(self, name, age):\n",
    "        self.name = name\n",
    "        self.age = age\n",
    "\n",
    "class Student(Person):\n",
    "    def __init__(self, name, age, student_id):\n",
    "        super().__init__(name, age)\n",
    "        self.student_id = student_id\n",
    "\n",
    "    def study(self):\n",
    "        print(f\"{self.name} is studying\")\n",
    "\n",
    "class Professor(Person):\n",
    "    def __init__(self, name, age, employee_id):\n",
    "        super().__init__(name, age)\n",
    "        self.employee_id = employee_id\n",
    "\n",
    "    def teach(self):\n",
    "        print(f\"{self.name} is teaching\")\n",
    "\n",
    "student = Student(\"John\", 20, \"S123\")\n",
    "professor = Professor(\"Dr. Smith\", 45, \"P456\")\n",
    "\n",
    "student.study()\n",
    "professor.teach()"
   ]
  },
  {
   "cell_type": "code",
   "execution_count": null,
   "id": "bfa2afc1-a4aa-495a-81d8-06a38376fe75",
   "metadata": {},
   "outputs": [],
   "source": [
    "# ENCAPSULATION"
   ]
  },
  {
   "cell_type": "code",
   "execution_count": null,
   "id": "59c18ac1-6374-4fe0-bf33-bac91fb3bb0d",
   "metadata": {},
   "outputs": [],
   "source": [
    "#question 1"
   ]
  },
  {
   "cell_type": "markdown",
   "id": "15082d67-93e5-429e-8ade-05453e696cf7",
   "metadata": {},
   "source": [
    "ENCAPSULATION :\n",
    "Encapsulation is an object-oriented programming principle that restricts direct access to some of an object's attributes and methods, which are meant to be hidden from outside interference and misuse. It allows the internal state of an object to be modified only through well-defined methods (getters and setters).\n",
    "\n",
    "ROLE IN OOP:\n",
    "Encapsulation ensures that an object's data is safe from unintended changes, improves code maintainability, and provides an interface for interacting with the object without exposing its implementation details."
   ]
  },
  {
   "cell_type": "code",
   "execution_count": null,
   "id": "af5e27d3-c802-4573-89f9-fc7a12e225d0",
   "metadata": {},
   "outputs": [],
   "source": [
    "#question 2"
   ]
  },
  {
   "cell_type": "markdown",
   "id": "7b9c6743-bfed-4a4d-8cca-3005e7cfcf57",
   "metadata": {},
   "source": [
    "ACCESS CONTROL:\n",
    "It defines the visibility of attributes and methods. In Python, this is typically done using public, protected, and private access modifiers.\n",
    "\n",
    "DATA HIDING:\n",
    " Encapsulation hides the internal data and allows access only through public methods. This prevents external classes from altering an object's internal state directly."
   ]
  },
  {
   "cell_type": "code",
   "execution_count": null,
   "id": "0349048a-888f-4adf-8013-9173f0ce9b18",
   "metadata": {},
   "outputs": [],
   "source": [
    "#question 3"
   ]
  },
  {
   "cell_type": "markdown",
   "id": "94816d68-8f43-4f2c-b8f6-9f37a743e112",
   "metadata": {},
   "source": [
    "In Python, encapsulation is achieved by making attributes private or protected (by convention) and providing public getter and setter methods to access or modify them."
   ]
  },
  {
   "cell_type": "code",
   "execution_count": 36,
   "id": "45885a61-8862-4011-9bab-c24981503ed5",
   "metadata": {},
   "outputs": [
    {
     "name": "stdout",
     "output_type": "stream",
     "text": [
      "John\n"
     ]
    }
   ],
   "source": [
    "class Person:\n",
    "    def __init__(self, name):\n",
    "        self.__name = name \n",
    "\n",
    "    def get_name(self):\n",
    "        return self.__name\n",
    "\n",
    "    def set_name(self, name): \n",
    "        if name:\n",
    "            self.__name = name\n",
    "        else:\n",
    "            print(\"Invalid name\")\n",
    "\n",
    "# Usage\n",
    "person = Person(\"John\")\n",
    "print(person.get_name()) \n",
    "person.set_name(\"Mike\") \n"
   ]
  },
  {
   "cell_type": "code",
   "execution_count": null,
   "id": "85ef96bc-c480-4b8d-a39e-53dcc760963b",
   "metadata": {},
   "outputs": [],
   "source": [
    "#question4 "
   ]
  },
  {
   "cell_type": "markdown",
   "id": "a7b02206-80ad-465f-b80c-f0a8d2251db2",
   "metadata": {},
   "source": [
    "PUBLIC:\n",
    " Attributes and methods are accessible from anywhere. In Python, all members are public by default.\n",
    "PROTECTED:\n",
    " These members are intended to be accessible only within the class and its subclasses. In Python, a single underscore _ is used as a convention to indicate this.\n",
    "PRIVATE:\n",
    "These members are intended to be hidden from outside access. A double underscore __ is used in Python for private attributes or methods."
   ]
  },
  {
   "cell_type": "code",
   "execution_count": null,
   "id": "c61da2cf-dba6-4e2c-b171-32ceea93c027",
   "metadata": {},
   "outputs": [],
   "source": [
    "#question 5"
   ]
  },
  {
   "cell_type": "code",
   "execution_count": 37,
   "id": "9d0e9cea-a5e0-4204-83ad-e8d765c75d08",
   "metadata": {},
   "outputs": [
    {
     "name": "stdout",
     "output_type": "stream",
     "text": [
      "Ali\n",
      "Boby\n"
     ]
    }
   ],
   "source": [
    "class Person:\n",
    "    def __init__(self, name):\n",
    "        self.__name = name \n",
    "\n",
    "    def get_name(self):\n",
    "        return self.__name \n",
    "        \n",
    "    def set_name(self, name):\n",
    "        if name:\n",
    "            self.__name = name  \n",
    "        else:\n",
    "            print(\"Invalid name\")\n",
    "\n",
    "person = Person(\"Ali\")\n",
    "print(person.get_name())\n",
    "person.set_name(\"Boby\")\n",
    "print(person.get_name())\n"
   ]
  },
  {
   "cell_type": "code",
   "execution_count": null,
   "id": "32440c07-c914-4890-9aac-aa81ae799f64",
   "metadata": {},
   "outputs": [],
   "source": [
    "#question 6"
   ]
  },
  {
   "cell_type": "markdown",
   "id": "6a9e98bb-0cef-4d43-811e-61e22d0d6631",
   "metadata": {},
   "source": [
    "GETTER METHODS:\n",
    "Getter methods are used to retrieve the value of an attribute.\n",
    "\n",
    "SETTER METHODS:\n",
    "Setter methods are used to set or modify the value of an attribute."
   ]
  },
  {
   "cell_type": "code",
   "execution_count": 38,
   "id": "2ac33236-4db3-479e-910b-81b4d8707244",
   "metadata": {},
   "outputs": [
    {
     "name": "stdout",
     "output_type": "stream",
     "text": [
      "5\n"
     ]
    }
   ],
   "source": [
    "class Circle:\n",
    "    def __init__(self, radius):\n",
    "        self.__radius = radius \n",
    "\n",
    "    def get_radius(self):\n",
    "        return self.__radius \n",
    "\n",
    "    def set_radius(self, radius):\n",
    "        if radius > 0:\n",
    "            self.__radius = radius \n",
    "        else:\n",
    "            print(\"Invalid radius\")\n",
    "\n",
    "# Usage\n",
    "circle = Circle(5)\n",
    "print(circle.get_radius()) \n",
    "circle.set_radius(10) \n"
   ]
  },
  {
   "cell_type": "code",
   "execution_count": null,
   "id": "24ad9ba3-ff27-4ff2-a4e0-89728a868b8d",
   "metadata": {},
   "outputs": [],
   "source": [
    "#question 7"
   ]
  },
  {
   "cell_type": "markdown",
   "id": "f872c171-1c3b-4a7a-9c1f-29a9a7b05bfb",
   "metadata": {},
   "source": [
    "Name Mangling is a process where Python changes the name of private variables (those prefixed with __) to avoid name conflicts in subclasses. This ensures that private attributes cannot be directly accessed from outside the class."
   ]
  },
  {
   "cell_type": "code",
   "execution_count": 39,
   "id": "6efc3455-d5a4-499c-b504-b8031ab605a4",
   "metadata": {},
   "outputs": [
    {
     "name": "stdout",
     "output_type": "stream",
     "text": [
      "10\n"
     ]
    }
   ],
   "source": [
    "class MyClass:\n",
    "    def __init__(self):\n",
    "        self.__private = 10\n",
    "\n",
    "obj = MyClass()\n",
    "print(obj._MyClass__private) "
   ]
  },
  {
   "cell_type": "code",
   "execution_count": null,
   "id": "c8a73aca-fd65-452a-9f78-81221a5c605e",
   "metadata": {},
   "outputs": [],
   "source": [
    "#question 8"
   ]
  },
  {
   "cell_type": "code",
   "execution_count": 40,
   "id": "d31aaa9e-e9ef-4adf-af85-56949c2b2629",
   "metadata": {},
   "outputs": [
    {
     "name": "stdout",
     "output_type": "stream",
     "text": [
      "Deposited: 500\n",
      "Withdrew: 200\n",
      "Balance: 1300\n"
     ]
    }
   ],
   "source": [
    "class BankAccount:\n",
    "    def __init__(self, account_number, balance=0):\n",
    "        self.__account_number = account_number\n",
    "        self.__balance = balance\n",
    "\n",
    "    def deposit(self, amount):\n",
    "        if amount > 0:\n",
    "            self.__balance += amount\n",
    "            print(f\"Deposited: {amount}\")\n",
    "        else:\n",
    "            print(\"Deposit amount must be positive.\")\n",
    "\n",
    "    def withdraw(self, amount):\n",
    "        if 0 < amount <= self.__balance:\n",
    "            self.__balance -= amount\n",
    "            print(f\"Withdrew: {amount}\")\n",
    "        else:\n",
    "            print(\"Insufficient balance or invalid amount.\")\n",
    "\n",
    "    def get_balance(self):\n",
    "        return self.__balance\n",
    "\n",
    "# Use\n",
    "account = BankAccount(12345, 1000)\n",
    "account.deposit(500)\n",
    "account.withdraw(200)\n",
    "print(\"Balance:\", account.get_balance())\n"
   ]
  },
  {
   "cell_type": "code",
   "execution_count": null,
   "id": "9556035b-25a2-4573-b171-4c9e4694b0da",
   "metadata": {},
   "outputs": [],
   "source": [
    "#question 9"
   ]
  },
  {
   "cell_type": "markdown",
   "id": "8c185a87-a994-4fba-b2db-becc9959e656",
   "metadata": {},
   "source": [
    "CODE MAINTAINABILITY:\n",
    "Encapsulation helps isolate the internal workings of a class from the outside world, allowing changes to be made internally without affecting the external code that uses the class.\n",
    "SECURITY:\n",
    " By using private attributes and methods, sensitive data is protected from external manipulation, ensuring that the object’s state is only modified through controlled methods."
   ]
  },
  {
   "cell_type": "code",
   "execution_count": null,
   "id": "a2f3f90f-703b-487d-be46-003474cbdd67",
   "metadata": {},
   "outputs": [],
   "source": [
    "#question 10"
   ]
  },
  {
   "cell_type": "markdown",
   "id": "4050518e-f042-4be6-8501-484c274d7fbc",
   "metadata": {},
   "source": [
    "Private attributes can be accessed using name mangling. However, this is generally not recommended because it breaks encapsulation."
   ]
  },
  {
   "cell_type": "code",
   "execution_count": 41,
   "id": "c17ef83e-73ee-46c9-b24a-916e68ff21ef",
   "metadata": {},
   "outputs": [
    {
     "name": "stdout",
     "output_type": "stream",
     "text": [
      "100\n"
     ]
    }
   ],
   "source": [
    "class MyClass:\n",
    "    def __init__(self):\n",
    "        self.__private_attr = 100\n",
    "\n",
    "obj = MyClass()\n",
    "print(obj._MyClass__private_attr) \n"
   ]
  },
  {
   "cell_type": "code",
   "execution_count": null,
   "id": "ace78c70-aad0-4216-85fb-5c05d236e4dc",
   "metadata": {},
   "outputs": [],
   "source": [
    "#question 11"
   ]
  },
  {
   "cell_type": "code",
   "execution_count": 42,
   "id": "71fae4f0-68c5-4068-8d11-d74fdff4dbf6",
   "metadata": {},
   "outputs": [
    {
     "name": "stdout",
     "output_type": "stream",
     "text": [
      "John\n",
      "S123\n",
      "Dr. Smith\n",
      "T456\n",
      "Mathematics\n"
     ]
    }
   ],
   "source": [
    "class Person:\n",
    "    def __init__(self, name, age):\n",
    "        self.__name = name\n",
    "        self.__age = age\n",
    "\n",
    "    def get_name(self):\n",
    "        return self.__name\n",
    "\n",
    "class Student(Person):\n",
    "    def __init__(self, name, age, student_id):\n",
    "        super().__init__(name, age)\n",
    "        self.__student_id = student_id\n",
    "\n",
    "    def get_student_id(self):\n",
    "        return self.__student_id\n",
    "\n",
    "class Teacher(Person):\n",
    "    def __init__(self, name, age, employee_id):\n",
    "        super().__init__(name, age)\n",
    "        self.__employee_id = employee_id\n",
    "\n",
    "    def get_employee_id(self):\n",
    "        return self.__employee_id\n",
    "\n",
    "class Course:\n",
    "    def __init__(self, course_name):\n",
    "        self.__course_name = course_name\n",
    "\n",
    "    def get_course_name(self):\n",
    "        return self.__course_name\n",
    "\n",
    "# Example usage\n",
    "student = Student(\"John\", 20, \"S123\")\n",
    "teacher = Teacher(\"Dr. Smith\", 45, \"T456\")\n",
    "course = Course(\"Mathematics\")\n",
    "\n",
    "print(student.get_name())\n",
    "print(student.get_student_id())\n",
    "print(teacher.get_name())\n",
    "print(teacher.get_employee_id())\n",
    "print(course.get_course_name())"
   ]
  },
  {
   "cell_type": "code",
   "execution_count": null,
   "id": "b2095364-94ae-46e9-86e5-fa6d978787e1",
   "metadata": {},
   "outputs": [],
   "source": [
    "#question 12"
   ]
  },
  {
   "cell_type": "markdown",
   "id": "a31d8bde-57cd-4245-b8a1-6fee2a6f1b6d",
   "metadata": {},
   "source": [
    "The @property decorator allows you to define methods that act like attributes, making it easier to manage access to private variables while maintaining the control of getter and setter methods."
   ]
  },
  {
   "cell_type": "code",
   "execution_count": 43,
   "id": "28bc224b-1b8d-4aef-a551-24c975c95127",
   "metadata": {},
   "outputs": [
    {
     "name": "stdout",
     "output_type": "stream",
     "text": [
      "5\n"
     ]
    }
   ],
   "source": [
    "class Circle:\n",
    "    def __init__(self, radius):\n",
    "        self.__radius = radius\n",
    "\n",
    "    @property\n",
    "    def radius(self):\n",
    "        return self.__radius\n",
    "\n",
    "    @radius.setter\n",
    "    def radius(self, radius):\n",
    "        if radius > 0:\n",
    "            self.__radius = radius\n",
    "        else:\n",
    "            print(\"Invalid radius\")\n",
    "\n",
    "circle = Circle(5)\n",
    "print(circle.radius)\n",
    "circle.radius = 10"
   ]
  },
  {
   "cell_type": "code",
   "execution_count": null,
   "id": "06204ed2-1097-4bbd-a387-83f936ab7b5a",
   "metadata": {},
   "outputs": [],
   "source": [
    "#question 13"
   ]
  },
  {
   "cell_type": "markdown",
   "id": "8e9b2266-912e-4f13-8677-23fe2eb3f092",
   "metadata": {},
   "source": [
    "Data Hiding refers to restricting access to an object's internal data and only allowing interaction through public methods. It is important for protecting sensitive data and ensuring that an object's state is not accidentally or maliciously modified."
   ]
  },
  {
   "cell_type": "code",
   "execution_count": 44,
   "id": "763c209e-7341-4558-b5b1-0429a018aec0",
   "metadata": {},
   "outputs": [
    {
     "name": "stdout",
     "output_type": "stream",
     "text": [
      "1000\n"
     ]
    }
   ],
   "source": [
    "class BankAccount:\n",
    "    def __init__(self, balance):\n",
    "        self.__balance = balance \n",
    "\n",
    "    def get_balance(self):\n",
    "        return self.__balance\n",
    "\n",
    "account = BankAccount(1000)\n",
    "print(account.get_balance())\n"
   ]
  },
  {
   "cell_type": "code",
   "execution_count": null,
   "id": "365c488f-7be8-4020-a611-c0d18812519b",
   "metadata": {},
   "outputs": [],
   "source": [
    "#question 14"
   ]
  },
  {
   "cell_type": "code",
   "execution_count": 45,
   "id": "a91eaa70-a892-49e5-9d63-aabbeafd961f",
   "metadata": {},
   "outputs": [
    {
     "name": "stdout",
     "output_type": "stream",
     "text": [
      "Yearly Bonus: 6000.0\n"
     ]
    }
   ],
   "source": [
    "class Employee:\n",
    "    def __init__(self, employee_id, salary):\n",
    "        self.__employee_id = employee_id \n",
    "        self.__salary = salary \n",
    "\n",
    "    def calculate_yearly_bonus(self, bonus_percentage):\n",
    "        return self.__salary * (bonus_percentage / 100)\n",
    "\n",
    "# Example\n",
    "employee = Employee(\"E123\", 60000)\n",
    "print(f\"Yearly Bonus: {employee.calculate_yearly_bonus(10)}\") "
   ]
  },
  {
   "cell_type": "code",
   "execution_count": null,
   "id": "7f3a7290-5adb-4b02-a250-b420d8c4e00b",
   "metadata": {},
   "outputs": [],
   "source": [
    "#question 15"
   ]
  },
  {
   "cell_type": "markdown",
   "id": "027a8373-c9c3-4cd8-8eba-d2ddc86afda8",
   "metadata": {},
   "source": [
    "ACCESSORS:\n",
    "Accessors (getters) allow controlled read access to private attributes.\n",
    "MUTATORS:\n",
    "Mutators (setters) allow controlled write access, often validating inputs before modifying attributes.\n",
    "\n",
    "They help in maintaining control over how attributes are accessed or modified, ensuring the internal state of an object remains consistent and secure."
   ]
  },
  {
   "cell_type": "code",
   "execution_count": null,
   "id": "7aaec24a-bcd0-4b71-bb7d-ff66d5507730",
   "metadata": {},
   "outputs": [],
   "source": [
    "#question 16"
   ]
  },
  {
   "cell_type": "markdown",
   "id": "f5f3d0cc-8d89-4338-91b3-120fdc0ee4e3",
   "metadata": {},
   "source": [
    "1. Overhead: Using accessors and mutators can add extra boilerplate code.\n",
    "2. Performance :  Additional method calls may slightly impact performance.\n",
    "3. Limited True Privacy : Python's name mangling is not true privacy since private attributes can still be accessed using name mangling (_ClassName__attribute).\n",
    "4. Complexity :  Encapsulation might make the code harder to follow for simple use cases."
   ]
  },
  {
   "cell_type": "code",
   "execution_count": null,
   "id": "4a30f23c-1fa7-4cfd-802d-c177ad847959",
   "metadata": {},
   "outputs": [],
   "source": [
    "#question 17"
   ]
  },
  {
   "cell_type": "code",
   "execution_count": 46,
   "id": "0d52ebeb-5650-4c8d-9a02-29c5005600a5",
   "metadata": {},
   "outputs": [
    {
     "name": "stdout",
     "output_type": "stream",
     "text": [
      "{'Title': 'The Great Gatsby', 'Author': 'F. Scott Fitzgerald', 'Availability': 'Available'}\n",
      "You have borrowed 'The Great Gatsby'\n",
      "{'Title': 'The Great Gatsby', 'Author': 'F. Scott Fitzgerald', 'Availability': 'Unavailable'}\n",
      "'The Great Gatsby' has been returned.\n",
      "{'Title': 'The Great Gatsby', 'Author': 'F. Scott Fitzgerald', 'Availability': 'Available'}\n"
     ]
    }
   ],
   "source": [
    "class Book:\n",
    "    def __init__(self, title, author):\n",
    "        self.__title = title \n",
    "        self.__author = author  \n",
    "        self.__is_available = True \n",
    "\n",
    "    def borrow_book(self):\n",
    "        if self.__is_available:\n",
    "            self.__is_available = False\n",
    "            print(f\"You have borrowed '{self.__title}'\")\n",
    "        else:\n",
    "            print(f\"'{self.__title}' is currently unavailable.\")\n",
    "\n",
    "    def return_book(self):\n",
    "        self.__is_available = True\n",
    "        print(f\"'{self.__title}' has been returned.\")\n",
    "\n",
    "    def get_details(self):\n",
    "        return {\n",
    "            \"Title\": self.__title,\n",
    "            \"Author\": self.__author,\n",
    "            \"Availability\": \"Available\" if self.__is_available else \"Unavailable\"\n",
    "        }\n",
    "\n",
    "# Example \n",
    "book = Book(\"The Great Gatsby\", \"F. Scott Fitzgerald\")\n",
    "print(book.get_details())\n",
    "book.borrow_book()\n",
    "print(book.get_details())\n",
    "book.return_book()\n",
    "print(book.get_details())\n"
   ]
  },
  {
   "cell_type": "code",
   "execution_count": null,
   "id": "6defeb4e-a073-4218-b0e9-5088ef561385",
   "metadata": {},
   "outputs": [],
   "source": [
    "#question 18"
   ]
  },
  {
   "cell_type": "markdown",
   "id": "49759106-02c2-4f31-8968-8686b8a8d7d6",
   "metadata": {},
   "source": [
    "Reusability :\n",
    "Encapsulation allows developers to reuse well-tested and controlled methods to interact with the object, reducing redundancy.\n",
    "\n",
    "Modularity :\n",
    " By isolating data and methods, encapsulation ensures that each class performs a specific role, making it easier to debug, update, or replace without affecting other parts of the program."
   ]
  },
  {
   "cell_type": "code",
   "execution_count": null,
   "id": "c799096c-3041-49fa-bad4-f379bd3f20ec",
   "metadata": {},
   "outputs": [],
   "source": [
    "#question 19"
   ]
  },
  {
   "cell_type": "markdown",
   "id": "e0bb81c6-7602-45bb-83a7-5b7df0afd78b",
   "metadata": {},
   "source": [
    "Information Hiding restricts access to an object's internal state and ensures that its data is only accessed and modified through controlled mechanisms (e.g., methods). It is essential in software development because:\n",
    "1. Data Security\n",
    "2. Abstraction\n",
    "3. Flexibility\n",
    "4. Bug Prevention"
   ]
  },
  {
   "cell_type": "code",
   "execution_count": null,
   "id": "ffb0b860-6ace-46f9-aeb0-c62984301834",
   "metadata": {},
   "outputs": [],
   "source": [
    "#question 20"
   ]
  },
  {
   "cell_type": "code",
   "execution_count": 47,
   "id": "7e939b9c-0b1d-441f-af95-6cc424b2a364",
   "metadata": {},
   "outputs": [
    {
     "name": "stdout",
     "output_type": "stream",
     "text": [
      "{'Name': 'John Doe', 'Address': '123 Main St', 'Contact': '555-1234'}\n",
      "Address updated successfully.\n",
      "Contact updated successfully.\n",
      "{'Name': 'John Doe', 'Address': '456 Elm St', 'Contact': '555-5678'}\n"
     ]
    }
   ],
   "source": [
    "class Customer:\n",
    "    def __init__(self, name, address, contact):\n",
    "        self.__name = name \n",
    "        self.__address = address \n",
    "        self.__contact = contact  \n",
    "\n",
    "    def get_details(self):\n",
    "        return {\n",
    "            \"Name\": self.__name,\n",
    "            \"Address\": self.__address,\n",
    "            \"Contact\": self.__contact\n",
    "        }\n",
    "\n",
    "    def update_address(self, address):\n",
    "        if address:\n",
    "            self.__address = address\n",
    "            print(\"Address updated successfully.\")\n",
    "        else:\n",
    "            print(\"Invalid address.\")\n",
    "\n",
    "    def update_contact(self, contact):\n",
    "        if contact:\n",
    "            self.__contact = contact\n",
    "            print(\"Contact updated successfully.\")\n",
    "        else:\n",
    "            print(\"Invalid contact.\")\n",
    "\n",
    "# Example usage\n",
    "customer = Customer(\"John Doe\", \"123 Main St\", \"555-1234\")\n",
    "print(customer.get_details())\n",
    "customer.update_address(\"456 Elm St\")\n",
    "customer.update_contact(\"555-5678\")\n",
    "print(customer.get_details())\n"
   ]
  },
  {
   "cell_type": "code",
   "execution_count": null,
   "id": "b7079158-86c7-4d88-9c27-66d12bbb2504",
   "metadata": {},
   "outputs": [],
   "source": [
    "# POLYMORPHISM"
   ]
  },
  {
   "cell_type": "code",
   "execution_count": null,
   "id": "927fde0d-9ce5-4a4c-846b-39a520ccb989",
   "metadata": {},
   "outputs": [],
   "source": [
    "#question 1"
   ]
  },
  {
   "cell_type": "markdown",
   "id": "29afa8c0-2230-45cc-bc37-29d668b9e269",
   "metadata": {},
   "source": [
    "Polymorphism in Python allows objects of different classes to be treated as objects of a common superclass. It enables a single method or operator to behave differently based on the object it is acting upon.\n",
    "\n",
    "Relation to OOP:\n",
    "Polymorphism is one of the key principles of object-oriented programming, promoting flexibility and code reusability by allowing methods in derived classes to override methods in base classes or perform common operations differently."
   ]
  },
  {
   "cell_type": "code",
   "execution_count": null,
   "id": "fecec3a4-7266-40b7-bd2a-b5f723b0830e",
   "metadata": {},
   "outputs": [],
   "source": [
    "#question 2"
   ]
  },
  {
   "cell_type": "markdown",
   "id": "41d88fce-a70b-44bc-8191-df9176ed25bd",
   "metadata": {},
   "source": [
    "Compile-time Polymorphism :\n",
    "Not directly supported in Python. It refers to method overloading or operator overloading, where methods or operators are resolved at compile time. Python handles method overloading differently via default parameters or variable arguments.\n",
    "\n",
    "Runtime Polymorphism :\n",
    "Supported in Python through method overriding. It occurs when the method that gets called is determined at runtime based on the object's class."
   ]
  },
  {
   "cell_type": "code",
   "execution_count": null,
   "id": "4fcfa5ed-f8f7-43cf-a5af-11ce4227c2b1",
   "metadata": {},
   "outputs": [],
   "source": [
    "#question 3"
   ]
  },
  {
   "cell_type": "code",
   "execution_count": 48,
   "id": "20a35404-8ad3-4873-99ac-47f6f93f3a52",
   "metadata": {},
   "outputs": [
    {
     "name": "stdout",
     "output_type": "stream",
     "text": [
      "Area: 78.53981633974483\n",
      "Area: 16\n",
      "Area: 9.0\n"
     ]
    }
   ],
   "source": [
    "from math import pi\n",
    "\n",
    "class Shape:\n",
    "    def calculate_area(self):\n",
    "        pass\n",
    "\n",
    "class Circle(Shape):\n",
    "    def __init__(self, radius):\n",
    "        self.radius = radius\n",
    "\n",
    "    def calculate_area(self):\n",
    "        return pi * self.radius**2\n",
    "\n",
    "class Square(Shape):\n",
    "    def __init__(self, side):\n",
    "        self.side = side\n",
    "\n",
    "    def calculate_area(self):\n",
    "        return self.side**2\n",
    "\n",
    "class Triangle(Shape):\n",
    "    def __init__(self, base, height):\n",
    "        self.base = base\n",
    "        self.height = height\n",
    "\n",
    "    def calculate_area(self):\n",
    "        return 0.5 * self.base * self.height\n",
    "\n",
    "# Example\n",
    "shapes = [Circle(5), Square(4), Triangle(6, 3)]\n",
    "for shape in shapes:\n",
    "    print(f\"Area: {shape.calculate_area()}\")\n"
   ]
  },
  {
   "cell_type": "code",
   "execution_count": null,
   "id": "947f9d35-b3f8-44f3-a34c-c168397e4d44",
   "metadata": {},
   "outputs": [],
   "source": [
    "#question 4"
   ]
  },
  {
   "cell_type": "markdown",
   "id": "6c3a87f2-3d8c-45e5-b981-470d76f121ca",
   "metadata": {},
   "source": [
    "Method overriding occurs when a child class provides its own implementation of a method inherited from the parent class. This enables polymorphism by allowing different behavior for the same method."
   ]
  },
  {
   "cell_type": "code",
   "execution_count": 49,
   "id": "5dc619c2-47ad-42dc-9c2a-e98dc1efa110",
   "metadata": {},
   "outputs": [
    {
     "name": "stdout",
     "output_type": "stream",
     "text": [
      "Dog barks\n",
      "Cat meows\n",
      "Animal makes a sound\n"
     ]
    }
   ],
   "source": [
    "class Animal:\n",
    "    def speak(self):\n",
    "        return \"Animal makes a sound\"\n",
    "\n",
    "class Dog(Animal):\n",
    "    def speak(self):\n",
    "        return \"Dog barks\"\n",
    "\n",
    "class Cat(Animal):\n",
    "    def speak(self):\n",
    "        return \"Cat meows\"\n",
    "\n",
    "# Example\n",
    "animals = [Dog(), Cat(), Animal()]\n",
    "for animal in animals:\n",
    "    print(animal.speak())"
   ]
  },
  {
   "cell_type": "code",
   "execution_count": null,
   "id": "241ab8ac-aeff-4a8d-9b34-fb0a7073334d",
   "metadata": {},
   "outputs": [],
   "source": [
    "#question 5"
   ]
  },
  {
   "cell_type": "markdown",
   "id": "a35c3363-8c3e-41ca-a904-ad5526793b85",
   "metadata": {},
   "source": [
    "Polymorphism :\n",
    "Enables methods in different classes to have the same name but perform different tasks."
   ]
  },
  {
   "cell_type": "code",
   "execution_count": 50,
   "id": "d60f02ff-067a-4932-b548-9d03b926bc4c",
   "metadata": {},
   "outputs": [
    {
     "name": "stdout",
     "output_type": "stream",
     "text": [
      "Bird chirps\n",
      "Duck quacks\n"
     ]
    }
   ],
   "source": [
    "class Bird:\n",
    "    def speak(self):\n",
    "        return \"Bird chirps\"\n",
    "\n",
    "class Duck(Bird):\n",
    "    def speak(self):\n",
    "        return \"Duck quacks\"\n",
    "\n",
    "birds = [Bird(), Duck()]\n",
    "for bird in birds:\n",
    "    print(bird.speak())"
   ]
  },
  {
   "cell_type": "markdown",
   "id": "fd42135c-dff8-4eea-931f-2d854e3abeee",
   "metadata": {},
   "source": [
    "Method Overloading :\n",
    "Python does not natively support method overloading. It can be emulated using default arguments or *args."
   ]
  },
  {
   "cell_type": "code",
   "execution_count": null,
   "id": "a8dac29b-8693-48fd-9149-f630acea0762",
   "metadata": {},
   "outputs": [],
   "source": [
    "class Math:\n",
    "    def add(self, a, b=0, c=0):\n",
    "        return a + b + c\n",
    "\n",
    "math = Math()\n",
    "print(math.add(2))        \n",
    "print(math.add(2, 3))     \n",
    "print(math.add(2, 3, 4))  "
   ]
  },
  {
   "cell_type": "code",
   "execution_count": null,
   "id": "17874df2-993f-4c79-bc75-44d4c7b4467e",
   "metadata": {},
   "outputs": [],
   "source": [
    "#question 6"
   ]
  },
  {
   "cell_type": "code",
   "execution_count": 51,
   "id": "e59acbb4-a4e5-4131-b6b4-8cf79c549328",
   "metadata": {},
   "outputs": [
    {
     "name": "stdout",
     "output_type": "stream",
     "text": [
      "Bark\n",
      "Meow\n",
      "Chirp\n"
     ]
    }
   ],
   "source": [
    "class Animal:\n",
    "    def speak(self):\n",
    "        return \"Animal sound\"\n",
    "\n",
    "class Dog(Animal):\n",
    "    def speak(self):\n",
    "        return \"Bark\"\n",
    "\n",
    "class Cat(Animal):\n",
    "    def speak(self):\n",
    "        return \"Meow\"\n",
    "\n",
    "class Bird(Animal):\n",
    "    def speak(self):\n",
    "        return \"Chirp\"\n",
    "\n",
    "# Example\n",
    "animals = [Dog(), Cat(), Bird()]\n",
    "for animal in animals:\n",
    "    print(animal.speak())\n"
   ]
  },
  {
   "cell_type": "code",
   "execution_count": null,
   "id": "47dc64c1-5c24-458f-89d0-e979a8f588dc",
   "metadata": {},
   "outputs": [],
   "source": [
    "#question 7"
   ]
  },
  {
   "cell_type": "code",
   "execution_count": 52,
   "id": "332aa7d8-6dfa-445d-84ae-c6b905fd6063",
   "metadata": {},
   "outputs": [
    {
     "name": "stdout",
     "output_type": "stream",
     "text": [
      "Car engine starts\n",
      "Pedaling starts the bicycle\n"
     ]
    }
   ],
   "source": [
    "from abc import ABC, abstractmethod\n",
    "\n",
    "class Vehicle(ABC):\n",
    "    @abstractmethod\n",
    "    def start(self):\n",
    "        pass\n",
    "\n",
    "class Car(Vehicle):\n",
    "    def start(self):\n",
    "        return \"Car engine starts\"\n",
    "\n",
    "class Bicycle(Vehicle):\n",
    "    def start(self):\n",
    "        return \"Pedaling starts the bicycle\"\n",
    "\n",
    "vehicles = [Car(), Bicycle()]\n",
    "for vehicle in vehicles:\n",
    "    print(vehicle.start())\n"
   ]
  },
  {
   "cell_type": "code",
   "execution_count": null,
   "id": "44279c2e-fdb8-4d52-8ef0-7db9579b56c0",
   "metadata": {},
   "outputs": [],
   "source": [
    "#question 8"
   ]
  },
  {
   "cell_type": "code",
   "execution_count": 53,
   "id": "1a8a5814-9c81-4489-b1ee-e8737580f30c",
   "metadata": {},
   "outputs": [
    {
     "name": "stdout",
     "output_type": "stream",
     "text": [
      "Car starts with ignition\n",
      "Boat starts with a motor\n",
      "Bicycle starts by pedaling\n"
     ]
    }
   ],
   "source": [
    "class Vehicle:\n",
    "    def start(self):\n",
    "        pass\n",
    "\n",
    "class Car(Vehicle):\n",
    "    def start(self):\n",
    "        return \"Car starts with ignition\"\n",
    "\n",
    "class Boat(Vehicle):\n",
    "    def start(self):\n",
    "        return \"Boat starts with a motor\"\n",
    "\n",
    "class Bicycle(Vehicle):\n",
    "    def start(self):\n",
    "        return \"Bicycle starts by pedaling\"\n",
    "\n",
    "# Example\n",
    "vehicles = [Car(), Boat(), Bicycle()]\n",
    "for vehicle in vehicles:\n",
    "    print(vehicle.start())"
   ]
  },
  {
   "cell_type": "code",
   "execution_count": null,
   "id": "ee68bb8e-9ae2-42ac-b1e9-74dd486afec6",
   "metadata": {},
   "outputs": [],
   "source": [
    "#question 9"
   ]
  },
  {
   "cell_type": "markdown",
   "id": "58454429-ee39-4b06-b397-d1050f6d039c",
   "metadata": {},
   "source": [
    "isinstance():\n",
    " Checks if an object is an instance of a specific class or its subclass.\n",
    "issubclass():\n",
    " Checks if a class is a subclass of another."
   ]
  },
  {
   "cell_type": "code",
   "execution_count": 54,
   "id": "6c40b019-411a-4e13-abba-783f2b21463b",
   "metadata": {},
   "outputs": [
    {
     "name": "stdout",
     "output_type": "stream",
     "text": [
      "True\n",
      "True\n"
     ]
    }
   ],
   "source": [
    "class Animal:\n",
    "    pass\n",
    "\n",
    "class Dog(Animal):\n",
    "    pass\n",
    "\n",
    "dog = Dog()\n",
    "print(isinstance(dog, Animal))  \n",
    "print(issubclass(Dog, Animal))  \n"
   ]
  },
  {
   "cell_type": "code",
   "execution_count": null,
   "id": "49845b3a-af72-44d3-9ceb-bed12bda2764",
   "metadata": {},
   "outputs": [],
   "source": [
    "#question 10"
   ]
  },
  {
   "cell_type": "markdown",
   "id": "8b397e3d-b3ca-4594-9b0d-a5a2e1e9c970",
   "metadata": {},
   "source": [
    "The @abstractmethod decorator enforces the implementation of methods in subclasses."
   ]
  },
  {
   "cell_type": "code",
   "execution_count": 55,
   "id": "a8a29eab-36ef-4968-86b9-ef578ad961d4",
   "metadata": {},
   "outputs": [],
   "source": [
    "from abc import ABC, abstractmethod\n",
    "\n",
    "class Shape(ABC):\n",
    "    @abstractmethod\n",
    "    def calculate_area(self):\n",
    "        pass\n",
    "\n",
    "\n",
    "#Subclasses must implement calculate_area() to avoid errors."
   ]
  },
  {
   "cell_type": "code",
   "execution_count": null,
   "id": "f115d33d-b0f0-4bb2-93f0-13dc6357babc",
   "metadata": {},
   "outputs": [],
   "source": [
    "#question 11"
   ]
  },
  {
   "cell_type": "code",
   "execution_count": 56,
   "id": "619ba0af-6019-4f3e-993d-bb06902e12cf",
   "metadata": {},
   "outputs": [
    {
     "name": "stdout",
     "output_type": "stream",
     "text": [
      "Area: 78.53981633974483\n",
      "Area: 24\n",
      "Area: 12.0\n"
     ]
    }
   ],
   "source": [
    "from math import pi\n",
    "\n",
    "class Shape:\n",
    "    def area(self):\n",
    "        pass\n",
    "\n",
    "class Circle(Shape):\n",
    "    def __init__(self, radius):\n",
    "        self.radius = radius\n",
    "\n",
    "    def area(self):\n",
    "        return pi * self.radius**2\n",
    "\n",
    "class Rectangle(Shape):\n",
    "    def __init__(self, width, height):\n",
    "        self.width = width\n",
    "        self.height = height\n",
    "\n",
    "    def area(self):\n",
    "        return self.width * self.height\n",
    "\n",
    "class Triangle(Shape):\n",
    "    def __init__(self, base, height):\n",
    "        self.base = base\n",
    "        self.height = height\n",
    "\n",
    "    def area(self):\n",
    "        return 0.5 * self.base * self.height\n",
    "\n",
    "shapes = [Circle(5), Rectangle(4, 6), Triangle(8, 3)]\n",
    "for shape in shapes:\n",
    "    print(f\"Area: {shape.area()}\")\n"
   ]
  },
  {
   "cell_type": "code",
   "execution_count": null,
   "id": "1852a0ee-3e8e-40c9-a2d2-6d9a5ad0c22d",
   "metadata": {},
   "outputs": [],
   "source": [
    "#question 12"
   ]
  },
  {
   "cell_type": "markdown",
   "id": "95357ad1-c120-40e2-98a0-99f65c2df761",
   "metadata": {},
   "source": [
    "Code Reusability:\n",
    " Polymorphism allows the use of a single interface (method) for objects of different classes. This minimizes code duplication and ensures consistent logic across different objects.\n",
    " \n",
    "Flexibility:\n",
    "You can introduce new classes with minimal changes to existing code, as long as they adhere to the common interface. This promotes the open/closed principle in software design."
   ]
  },
  {
   "cell_type": "code",
   "execution_count": null,
   "id": "2b48a464-7ee1-4d95-ad09-422a59562a89",
   "metadata": {},
   "outputs": [],
   "source": [
    "#question 13"
   ]
  },
  {
   "cell_type": "markdown",
   "id": "25843dd0-e182-4ef0-8aff-53780bf8f14d",
   "metadata": {},
   "source": [
    "The super() function allows you to call methods of a parent class from within a child class. It is particularly useful when overriding methods and you still want to reuse some functionality of the parent class."
   ]
  },
  {
   "cell_type": "code",
   "execution_count": 57,
   "id": "153de542-fcd6-4c2e-9dff-1bb30330798c",
   "metadata": {},
   "outputs": [
    {
     "name": "stdout",
     "output_type": "stream",
     "text": [
      "Some generic sound but I also bark\n"
     ]
    }
   ],
   "source": [
    "class Animal:\n",
    "    def __init__(self, species):\n",
    "        self.species = species\n",
    "\n",
    "    def speak(self):\n",
    "        return \"Some generic sound\"\n",
    "\n",
    "class Dog(Animal):\n",
    "    def __init__(self, species, breed):\n",
    "        super().__init__(species)\n",
    "        self.breed = breed\n",
    "\n",
    "    def speak(self):\n",
    "        return f\"{super().speak()} but I also bark\"\n",
    "\n",
    "dog = Dog(\"Canine\", \"Labrador\")\n",
    "print(dog.speak()) \n"
   ]
  },
  {
   "cell_type": "code",
   "execution_count": null,
   "id": "e625e981-d3c3-4898-bf65-103587c8f22a",
   "metadata": {},
   "outputs": [],
   "source": [
    "#question 14"
   ]
  },
  {
   "cell_type": "code",
   "execution_count": 58,
   "id": "a47b0a62-4424-445f-9104-0ba34c0bfe5c",
   "metadata": {},
   "outputs": [
    {
     "name": "stdout",
     "output_type": "stream",
     "text": [
      "Withdrawn 200 from savings. Remaining balance: 300\n",
      "Withdrawn 200 from checking. Remaining balance: 800\n",
      "Charged 200 to credit card. Current balance: 200\n"
     ]
    }
   ],
   "source": [
    "class Account:\n",
    "    def __init__(self, balance):\n",
    "        self.balance = balance\n",
    "\n",
    "    def withdraw(self, amount):\n",
    "        pass\n",
    "\n",
    "class SavingsAccount(Account):\n",
    "    def withdraw(self, amount):\n",
    "        if amount > self.balance:\n",
    "            return \"Insufficient balance in savings account\"\n",
    "        self.balance -= amount\n",
    "        return f\"Withdrawn {amount} from savings. Remaining balance: {self.balance}\"\n",
    "\n",
    "class CheckingAccount(Account):\n",
    "    def withdraw(self, amount):\n",
    "        self.balance -= amount\n",
    "        return f\"Withdrawn {amount} from checking. Remaining balance: {self.balance}\"\n",
    "\n",
    "class CreditCardAccount(Account):\n",
    "    def withdraw(self, amount):\n",
    "        return f\"Charged {amount} to credit card. Current balance: {self.balance + amount}\"\n",
    "\n",
    "accounts = [SavingsAccount(500), CheckingAccount(1000), CreditCardAccount(0)]\n",
    "for account in accounts:\n",
    "    print(account.withdraw(200))\n"
   ]
  },
  {
   "cell_type": "code",
   "execution_count": null,
   "id": "154e90e8-4662-499a-ae40-e88c6861e406",
   "metadata": {},
   "outputs": [],
   "source": [
    "#question 15"
   ]
  },
  {
   "cell_type": "markdown",
   "id": "8748eff3-bf0a-4760-b6bc-d4ad32100f77",
   "metadata": {},
   "source": [
    "Operator overloading allows operators like + and * to have different behaviors depending on the operands. This is achieved using special methods like __add__() and __mul__()."
   ]
  },
  {
   "cell_type": "code",
   "execution_count": 59,
   "id": "c0c586c3-a14f-40cb-9e51-d3f46159a5f7",
   "metadata": {},
   "outputs": [
    {
     "name": "stdout",
     "output_type": "stream",
     "text": [
      "Point(6, 8)\n"
     ]
    }
   ],
   "source": [
    "class Point:\n",
    "    def __init__(self, x, y):\n",
    "        self.x = x\n",
    "        self.y = y\n",
    "\n",
    "    def __add__(self, other):\n",
    "        return Point(self.x + other.x, self.y + other.y)\n",
    "\n",
    "    def __str__(self):\n",
    "        return f\"Point({self.x}, {self.y})\"\n",
    "\n",
    "p1 = Point(2, 3)\n",
    "p2 = Point(4, 5)\n",
    "p3 = p1 + p2\n",
    "print(p3) "
   ]
  },
  {
   "cell_type": "code",
   "execution_count": null,
   "id": "0b0a1b1e-d77e-4d8e-ab45-80f4b317ba13",
   "metadata": {},
   "outputs": [],
   "source": [
    "#question 16"
   ]
  },
  {
   "cell_type": "markdown",
   "id": "3c50fe88-e22e-45bc-bb1a-a8d6599095a7",
   "metadata": {},
   "source": [
    "Dynamic polymorphism is achieved through method overriding, where the method to be executed is determined at runtime based on the object's type."
   ]
  },
  {
   "cell_type": "code",
   "execution_count": 60,
   "id": "c59c6585-68f0-4cca-aa16-49bde2ef6ad3",
   "metadata": {},
   "outputs": [
    {
     "name": "stdout",
     "output_type": "stream",
     "text": [
      "Bark\n",
      "Meow\n"
     ]
    }
   ],
   "source": [
    "class Animal:\n",
    "    def sound(self):\n",
    "        pass\n",
    "\n",
    "class Dog(Animal):\n",
    "    def sound(self):\n",
    "        return \"Bark\"\n",
    "\n",
    "class Cat(Animal):\n",
    "    def sound(self):\n",
    "        return \"Meow\"\n",
    "\n",
    "def animal_sound(animal):\n",
    "    print(animal.sound())\n",
    "\n",
    "dog = Dog()\n",
    "cat = Cat()\n",
    "animal_sound(dog) \n",
    "animal_sound(cat)  \n"
   ]
  },
  {
   "cell_type": "code",
   "execution_count": null,
   "id": "6009b0e1-c178-41cf-8df8-07ad5ab67ee9",
   "metadata": {},
   "outputs": [],
   "source": [
    "#question 17"
   ]
  },
  {
   "cell_type": "code",
   "execution_count": 61,
   "id": "2756cf8c-2e5f-490f-b4f5-ff96206cd677",
   "metadata": {},
   "outputs": [
    {
     "name": "stdout",
     "output_type": "stream",
     "text": [
      "Manager salary is calculated with bonuses\n",
      "Developer salary is calculated with overtime\n",
      "Designer salary is calculated with projects completed\n"
     ]
    }
   ],
   "source": [
    "class Employee:\n",
    "    def calculate_salary(self):\n",
    "        pass\n",
    "\n",
    "class Manager(Employee):\n",
    "    def calculate_salary(self):\n",
    "        return \"Manager salary is calculated with bonuses\"\n",
    "\n",
    "class Developer(Employee):\n",
    "    def calculate_salary(self):\n",
    "        return \"Developer salary is calculated with overtime\"\n",
    "\n",
    "class Designer(Employee):\n",
    "    def calculate_salary(self):\n",
    "        return \"Designer salary is calculated with projects completed\"\n",
    "\n",
    "employees = [Manager(), Developer(), Designer()]\n",
    "for employee in employees:\n",
    "    print(employee.calculate_salary())\n"
   ]
  },
  {
   "cell_type": "code",
   "execution_count": null,
   "id": "1c103fea-5773-493a-b6cc-946d0b121ea8",
   "metadata": {},
   "outputs": [],
   "source": [
    "#question 18"
   ]
  },
  {
   "cell_type": "markdown",
   "id": "9b72c9a0-ea97-4196-8748-1a68594f2be3",
   "metadata": {},
   "source": [
    "Python supports functions as first-class objects, allowing function pointers (references) to be passed around for polymorphic behavior."
   ]
  },
  {
   "cell_type": "code",
   "execution_count": 62,
   "id": "85fa65e4-443a-47c3-aaa5-ce8673b08772",
   "metadata": {},
   "outputs": [
    {
     "name": "stdout",
     "output_type": "stream",
     "text": [
      "5\n",
      "6\n"
     ]
    }
   ],
   "source": [
    "def add(a, b):\n",
    "    return a + b\n",
    "\n",
    "def multiply(a, b):\n",
    "    return a * b\n",
    "\n",
    "def execute_operation(func, x, y):\n",
    "    return func(x, y)\n",
    "\n",
    "# Example usage\n",
    "print(execute_operation(add, 2, 3))     \n",
    "print(execute_operation(multiply, 2, 3)) \n"
   ]
  },
  {
   "cell_type": "code",
   "execution_count": null,
   "id": "2794b4c7-6a2c-4f83-bf3d-8942d944413c",
   "metadata": {},
   "outputs": [],
   "source": [
    "#question 19"
   ]
  },
  {
   "cell_type": "markdown",
   "id": "f87b620b-5909-4c67-a1e6-5b3dc20ac47c",
   "metadata": {},
   "source": [
    "INTERFACES : Fully abstract; Python doesn't have a native interface keyword but uses abstract classes to achieve similar behavior.\n",
    "\n",
    "ABSTRACT CLASSES : Provide partial implementation for subclasses. Defined using the abc module."
   ]
  },
  {
   "cell_type": "code",
   "execution_count": 63,
   "id": "034c8765-69ad-41ac-947f-eca3479daa11",
   "metadata": {},
   "outputs": [],
   "source": [
    "from abc import ABC, abstractmethod\n",
    "\n",
    "class Shape(ABC):\n",
    "    @abstractmethod\n",
    "    def draw(self):\n",
    "        pass\n",
    "\n",
    "class Circle(Shape):\n",
    "    def draw(self):\n",
    "        print(\"Drawing Circle\")\n",
    "\n",
    "class Square(Shape):\n",
    "    def draw(self):\n",
    "        print(\"Drawing Square\")\n"
   ]
  },
  {
   "cell_type": "code",
   "execution_count": null,
   "id": "4eaec59d-becb-4d54-80eb-529ce4ccca1e",
   "metadata": {},
   "outputs": [],
   "source": [
    "#question 20"
   ]
  },
  {
   "cell_type": "code",
   "execution_count": 64,
   "id": "97e6139f-01c1-4d43-85ce-d4f089305db1",
   "metadata": {},
   "outputs": [
    {
     "name": "stdout",
     "output_type": "stream",
     "text": [
      "Lion behavior:\n",
      " - Eating: Mammal is eating plants or meat.\n",
      " - Sleeping: Mammal is sleeping.\n",
      " - Making Sound: Lion roars!\n",
      "\n",
      "Elephant behavior:\n",
      " - Eating: Mammal is eating plants or meat.\n",
      " - Sleeping: Mammal is sleeping.\n",
      " - Making Sound: Elephant trumpets!\n",
      "\n",
      "Parrot behavior:\n",
      " - Eating: Bird is pecking at seeds or insects.\n",
      " - Sleeping: Bird is sleeping in its nest.\n",
      " - Making Sound: Parrot mimics sounds!\n",
      "\n",
      "Owl behavior:\n",
      " - Eating: Bird is pecking at seeds or insects.\n",
      " - Sleeping: Bird is sleeping in its nest.\n",
      " - Making Sound: Owl hoots!\n",
      "\n",
      "Snake behavior:\n",
      " - Eating: Reptile is eating insects or small animals.\n",
      " - Sleeping: Reptile is basking or resting.\n",
      " - Making Sound: Snake hisses!\n",
      "\n",
      "Crocodile behavior:\n",
      " - Eating: Reptile is eating insects or small animals.\n",
      " - Sleeping: Reptile is basking or resting.\n",
      " - Making Sound: Crocodile growls!\n",
      "\n"
     ]
    }
   ],
   "source": [
    "class Animal:\n",
    "    def eat(self):\n",
    "        pass\n",
    "\n",
    "    def sleep(self):\n",
    "        pass\n",
    "\n",
    "    def make_sound(self):\n",
    "        pass\n",
    "\n",
    "# Mammals\n",
    "class Mammal(Animal):\n",
    "    def eat(self):\n",
    "        return \"Mammal is eating plants or meat.\"\n",
    "\n",
    "    def sleep(self):\n",
    "        return \"Mammal is sleeping.\"\n",
    "\n",
    "    def make_sound(self):\n",
    "        return \"Mammal makes generic mammal sound.\"\n",
    "\n",
    "class Lion(Mammal):\n",
    "    def make_sound(self):\n",
    "        return \"Lion roars!\"\n",
    "\n",
    "class Elephant(Mammal):\n",
    "    def make_sound(self):\n",
    "        return \"Elephant trumpets!\"\n",
    "\n",
    "# Birds\n",
    "class Bird(Animal):\n",
    "    def eat(self):\n",
    "        return \"Bird is pecking at seeds or insects.\"\n",
    "\n",
    "    def sleep(self):\n",
    "        return \"Bird is sleeping in its nest.\"\n",
    "\n",
    "    def make_sound(self):\n",
    "        return \"Bird chirps!\"\n",
    "\n",
    "class Parrot(Bird):\n",
    "    def make_sound(self):\n",
    "        return \"Parrot mimics sounds!\"\n",
    "\n",
    "class Owl(Bird):\n",
    "    def make_sound(self):\n",
    "        return \"Owl hoots!\"\n",
    "\n",
    "# Reptiles\n",
    "class Reptile(Animal):\n",
    "    def eat(self):\n",
    "        return \"Reptile is eating insects or small animals.\"\n",
    "\n",
    "    def sleep(self):\n",
    "        return \"Reptile is basking or resting.\"\n",
    "\n",
    "    def make_sound(self):\n",
    "        return \"Reptile hisses!\"\n",
    "\n",
    "class Snake(Reptile):\n",
    "    def make_sound(self):\n",
    "        return \"Snake hisses!\"\n",
    "\n",
    "class Crocodile(Reptile):\n",
    "    def make_sound(self):\n",
    "        return \"Crocodile growls!\"\n",
    "\n",
    "#Example\n",
    "def zoo_simulation(animals):\n",
    "    for animal in animals:\n",
    "        print(f\"{type(animal).__name__} behavior:\")\n",
    "        print(f\" - Eating: {animal.eat()}\")\n",
    "        print(f\" - Sleeping: {animal.sleep()}\")\n",
    "        print(f\" - Making Sound: {animal.make_sound()}\")\n",
    "        print()\n",
    "\n",
    "# Creating a list of animals in the zoo\n",
    "zoo = [\n",
    "    Lion(),\n",
    "    Elephant(),\n",
    "    Parrot(),\n",
    "    Owl(),\n",
    "    Snake(),\n",
    "    Crocodile()\n",
    "]\n",
    "\n",
    "# Simulating the zoo\n",
    "zoo_simulation(zoo)\n"
   ]
  },
  {
   "cell_type": "code",
   "execution_count": null,
   "id": "8cd59911-c8d8-44bf-9560-48a42eaed03e",
   "metadata": {},
   "outputs": [],
   "source": [
    "# ABSTRACTION"
   ]
  },
  {
   "cell_type": "code",
   "execution_count": null,
   "id": "fae8000d-7fff-4368-985d-ccadfa59a3aa",
   "metadata": {},
   "outputs": [],
   "source": [
    "#question 1"
   ]
  },
  {
   "cell_type": "markdown",
   "id": "3aff9d0f-160f-4a16-9317-2e089003ab81",
   "metadata": {},
   "source": [
    "Abstraction in Python refers to the process of hiding implementation details and exposing only the necessary functionality of an object. It is one of the key principles of object-oriented programming (OOP), enabling developers to focus on what an object does rather than how it does it. In Python, abstraction is often achieved using abstract base classes (ABCs) and abstract methods, which ensure certain functionality must be implemented by subclasses."
   ]
  },
  {
   "cell_type": "code",
   "execution_count": null,
   "id": "50ad3a18-3263-4a5c-8957-0819ec4b7819",
   "metadata": {},
   "outputs": [],
   "source": [
    "#question 2"
   ]
  },
  {
   "cell_type": "markdown",
   "id": "ba405f20-69ab-47d4-ac9d-602e1805417e",
   "metadata": {},
   "source": [
    "1. Improved code organization : Abstraction helps in organizing code by separating the interface (what the class should do) from implementation details (how it is done).\n",
    "   \n",
    "2. Reduced Complexity :  By focusing on high-level functionalities, developers don’t need to worry about the internal workings of objects while using them.\n",
    "\n",
    "3. Code Reusability:  Abstract base classes define reusable templates that subclasses can extend and implement.\n",
    "\n",
    "4. Better maintainance :  Changes in implementation do not affect other parts of the code that rely on the abstract interface."
   ]
  },
  {
   "cell_type": "code",
   "execution_count": null,
   "id": "e5edd81e-9322-4cbe-8ab2-c903bced49a8",
   "metadata": {},
   "outputs": [],
   "source": [
    "#question 3"
   ]
  },
  {
   "cell_type": "code",
   "execution_count": 65,
   "id": "c49209b3-d047-41c9-89d6-b9b597360be3",
   "metadata": {},
   "outputs": [
    {
     "name": "stdout",
     "output_type": "stream",
     "text": [
      "Area of Circle: 78.54\n",
      "Area of Rectangle: 24.00\n"
     ]
    }
   ],
   "source": [
    "from abc import ABC, abstractmethod\n",
    "import math\n",
    "\n",
    "# Abstract base class\n",
    "class Shape(ABC):\n",
    "    @abstractmethod\n",
    "    def calculate_area(self):\n",
    "        pass\n",
    "\n",
    "# Child classes\n",
    "class Circle(Shape):\n",
    "    def __init__(self, radius):\n",
    "        self.radius = radius\n",
    "\n",
    "    def calculate_area(self):\n",
    "        return math.pi * self.radius ** 2\n",
    "\n",
    "class Rectangle(Shape):\n",
    "    def __init__(self, width, height):\n",
    "        self.width = width\n",
    "        self.height = height\n",
    "\n",
    "    def calculate_area(self):\n",
    "        return self.width * self.height\n",
    "\n",
    "# Example \n",
    "circle = Circle(5)\n",
    "rectangle = Rectangle(4, 6)\n",
    "\n",
    "print(f\"Area of Circle: {circle.calculate_area():.2f}\")\n",
    "print(f\"Area of Rectangle: {rectangle.calculate_area():.2f}\")\n"
   ]
  },
  {
   "cell_type": "code",
   "execution_count": null,
   "id": "2fa45971-6dce-4158-8ee9-fca039c70ceb",
   "metadata": {},
   "outputs": [],
   "source": [
    "#question 4"
   ]
  },
  {
   "cell_type": "markdown",
   "id": "aa0cefd6-4636-47d1-b4f9-c0e9e58c3105",
   "metadata": {},
   "source": [
    "Abstract classes in Python are classes that cannot be instantiated and serve as blueprints for other classes. They are defined using the abc (Abstract Base Class) module. Abstract classes enforce that subclasses implement specific methods marked as @abstractmethod."
   ]
  },
  {
   "cell_type": "code",
   "execution_count": 66,
   "id": "6ec3fec5-697a-40b3-a6f8-e9bbc08620fb",
   "metadata": {},
   "outputs": [
    {
     "name": "stdout",
     "output_type": "stream",
     "text": [
      "Car engine started!\n",
      "Bike engine started!\n"
     ]
    }
   ],
   "source": [
    "from abc import ABC, abstractmethod\n",
    "\n",
    "class Vehicle(ABC):\n",
    "    @abstractmethod\n",
    "    def start_engine(self):\n",
    "        pass\n",
    "\n",
    "class Car(Vehicle):\n",
    "    def start_engine(self):\n",
    "        return \"Car engine started!\"\n",
    "\n",
    "class Bike(Vehicle):\n",
    "    def start_engine(self):\n",
    "        return \"Bike engine started!\"\n",
    "\n",
    "car = Car()\n",
    "bike = Bike()\n",
    "\n",
    "print(car.start_engine())\n",
    "print(bike.start_engine())\n"
   ]
  },
  {
   "cell_type": "code",
   "execution_count": null,
   "id": "563eb184-dabf-4cce-8342-35496060973a",
   "metadata": {},
   "outputs": [],
   "source": [
    "#question 5"
   ]
  },
  {
   "cell_type": "markdown",
   "id": "f1064006-c1ba-4bd7-9821-9533d4dbe9a3",
   "metadata": {},
   "source": [
    "ABSTRACT CLASSES:\n",
    "1.Cannot be instantiated directly.\n",
    "2.Contain abstract methods (methods without implementation) that must be implemented by subclasses.\n",
    "3.Used to define common interfaces or blueprints for subclasses.\n",
    "\n",
    "REGULAR CLASSES :\n",
    "1.Can be instantiated directly.\n",
    "2.Contain fully implemented methods.\n",
    "3.Represent real-world objects or functionality.\n",
    "\n",
    "USE CASES :\n",
    "ABSTRACT CLASSES :Enforce structure and method implementation in subclasses.\n",
    "REGULAR CLASSES : Define complete, functional objects."
   ]
  },
  {
   "cell_type": "code",
   "execution_count": null,
   "id": "a6331e09-c25c-4900-bb41-6301af183890",
   "metadata": {},
   "outputs": [],
   "source": [
    "#question 6"
   ]
  },
  {
   "cell_type": "code",
   "execution_count": 67,
   "id": "6f09769b-d1a8-49a5-bf9c-3ee689d60f11",
   "metadata": {},
   "outputs": [
    {
     "name": "stdout",
     "output_type": "stream",
     "text": [
      "Deposited 200. Current balance: 700\n",
      "Withdrew 100. Current balance: 600\n",
      "Final Balance: 600\n"
     ]
    }
   ],
   "source": [
    "class BankAccount:\n",
    "    def __init__(self, account_number, initial_balance=0):\n",
    "        self.__account_number = account_number \n",
    "        self.__balance = initial_balance\n",
    "\n",
    "    def deposit(self, amount):\n",
    "        if amount > 0:\n",
    "            self.__balance += amount\n",
    "            print(f\"Deposited {amount}. Current balance: {self.__balance}\")\n",
    "        else:\n",
    "            print(\"Deposit amount must be positive.\")\n",
    "\n",
    "    def withdraw(self, amount):\n",
    "        if 0 < amount <= self.__balance:\n",
    "            self.__balance -= amount\n",
    "            print(f\"Withdrew {amount}. Current balance: {self.__balance}\")\n",
    "        else:\n",
    "            print(\"Invalid withdrawal amount.\")\n",
    "\n",
    "    def get_balance(self):\n",
    "        return self.__balance\n",
    "\n",
    "# Example\n",
    "account = BankAccount(123456, 500)\n",
    "account.deposit(200)\n",
    "account.withdraw(100)\n",
    "print(f\"Final Balance: {account.get_balance()}\")\n"
   ]
  },
  {
   "cell_type": "code",
   "execution_count": null,
   "id": "96ae3248-f53b-4e8f-9355-8af80b01aa2c",
   "metadata": {},
   "outputs": [],
   "source": [
    "#question 7"
   ]
  },
  {
   "cell_type": "markdown",
   "id": "fe0eb1af-4d67-4ed4-b7f5-227e910faa0b",
   "metadata": {},
   "source": [
    "Interface classes in Python are essentially abstract classes that only define method signatures without any concrete implementation. They are used to ensure a consistent structure across multiple classes. Python does not have a specific interface keyword but uses abstract base classes for similar functionality."
   ]
  },
  {
   "cell_type": "code",
   "execution_count": null,
   "id": "31316c3e-ff8e-4ec7-a073-2b6705395d73",
   "metadata": {},
   "outputs": [],
   "source": [
    "#question 8"
   ]
  },
  {
   "cell_type": "code",
   "execution_count": 68,
   "id": "e5db2a80-43e1-482a-8939-371eee18d127",
   "metadata": {},
   "outputs": [
    {
     "name": "stdout",
     "output_type": "stream",
     "text": [
      "Dog is eating bones.\n",
      "Dog is sleeping in its kennel.\n",
      "Bird is eating seeds.\n",
      "Bird is sleeping in its nest.\n"
     ]
    }
   ],
   "source": [
    "from abc import ABC, abstractmethod\n",
    "\n",
    "class Animal(ABC):\n",
    "    @abstractmethod\n",
    "    def eat(self):\n",
    "        pass\n",
    "\n",
    "    @abstractmethod\n",
    "    def sleep(self):\n",
    "        pass\n",
    "\n",
    "class Dog(Animal):\n",
    "    def eat(self):\n",
    "        return \"Dog is eating bones.\"\n",
    "\n",
    "    def sleep(self):\n",
    "        return \"Dog is sleeping in its kennel.\"\n",
    "\n",
    "class Bird(Animal):\n",
    "    def eat(self):\n",
    "        return \"Bird is eating seeds.\"\n",
    "\n",
    "    def sleep(self):\n",
    "        return \"Bird is sleeping in its nest.\"\n",
    "\n",
    "# Example\n",
    "dog = Dog()\n",
    "bird = Bird()\n",
    "\n",
    "print(dog.eat())\n",
    "print(dog.sleep())\n",
    "print(bird.eat())\n",
    "print(bird.sleep())\n"
   ]
  },
  {
   "cell_type": "code",
   "execution_count": null,
   "id": "d26fe660-a5e9-4579-bb4e-ec801f7de927",
   "metadata": {},
   "outputs": [],
   "source": [
    "#question 9"
   ]
  },
  {
   "cell_type": "markdown",
   "id": "7c75955d-68f7-4203-998c-a004cc44a279",
   "metadata": {},
   "source": [
    "Encapsulation and abstraction work together in Python. Encapsulation ensures that internal data is hidden from outside access, while abstraction provides a simplified interface to interact with an object. Encapsulation is the foundation of abstraction as it restricts access to internal details, making abstraction easier to implement."
   ]
  },
  {
   "cell_type": "code",
   "execution_count": 70,
   "id": "a449c69b-9667-4f04-9c18-6ec900470faf",
   "metadata": {},
   "outputs": [],
   "source": [
    "class BankAccount:\n",
    "    def __init__(self, account_number, balance):\n",
    "        self.__account_number = account_number \n",
    "        self.__balance = balance\n",
    "\n",
    "    def deposit(self, amount):\n",
    "        if amount > 0:\n",
    "            self.__balance += amount\n",
    "        else:\n",
    "            print(\"Invalid deposit amount.\")\n",
    "\n",
    "    def withdraw(self, amount):\n",
    "        if amount > 0 and amount <= self.__balance:\n",
    "            self.__balance -= amount\n",
    "        else:\n",
    "            print(\"Invalid withdrawal amount.\")\n",
    "\n",
    "    def get_balance(self):  \n",
    "        return self.__balance\n"
   ]
  },
  {
   "cell_type": "code",
   "execution_count": null,
   "id": "6169fb7b-52c7-4be0-8fda-e8bb18ccac33",
   "metadata": {},
   "outputs": [],
   "source": [
    "#question 10"
   ]
  },
  {
   "cell_type": "markdown",
   "id": "9e0460c1-11ab-463d-a0a7-0ab3ba09f495",
   "metadata": {},
   "source": [
    "Abstract methods in Python are methods declared in an abstract class but not implemented. They ensure that all subclasses implement these methods, thereby enforcing abstraction."
   ]
  },
  {
   "cell_type": "code",
   "execution_count": 71,
   "id": "5a53b7c1-4e0e-4ed9-bb43-3d547580c923",
   "metadata": {},
   "outputs": [],
   "source": [
    "from abc import ABC, abstractmethod\n",
    "\n",
    "class PaymentGateway(ABC):\n",
    "    @abstractmethod\n",
    "    def process_payment(self, amount):\n",
    "        pass\n",
    "\n",
    "class PayPal(PaymentGateway):\n",
    "    def process_payment(self, amount):\n",
    "        return f\"Processing Rs.{amount} through PayPal.\"\n"
   ]
  },
  {
   "cell_type": "code",
   "execution_count": null,
   "id": "0311d168-77b0-44a0-9256-c731f7fafb72",
   "metadata": {},
   "outputs": [],
   "source": [
    "#question 11"
   ]
  },
  {
   "cell_type": "code",
   "execution_count": 72,
   "id": "e7d98605-2611-42a6-90a6-9f458825f309",
   "metadata": {},
   "outputs": [
    {
     "name": "stdout",
     "output_type": "stream",
     "text": [
      "Car engine started.\n",
      "Car engine stopped.\n",
      "Motorcycle started.\n",
      "Motorcycle stopped.\n"
     ]
    }
   ],
   "source": [
    "from abc import ABC, abstractmethod\n",
    "\n",
    "class Vehicle(ABC):\n",
    "    @abstractmethod\n",
    "    def start(self):\n",
    "        pass\n",
    "\n",
    "    @abstractmethod\n",
    "    def stop(self):\n",
    "        pass\n",
    "\n",
    "class Car(Vehicle):\n",
    "    def start(self):\n",
    "        return \"Car engine started.\"\n",
    "\n",
    "    def stop(self):\n",
    "        return \"Car engine stopped.\"\n",
    "\n",
    "class Motorcycle(Vehicle):\n",
    "    def start(self):\n",
    "        return \"Motorcycle started.\"\n",
    "\n",
    "    def stop(self):\n",
    "        return \"Motorcycle stopped.\"\n",
    "\n",
    "# Example\n",
    "car = Car()\n",
    "motorcycle = Motorcycle()\n",
    "\n",
    "print(car.start())\n",
    "print(car.stop())\n",
    "print(motorcycle.start())\n",
    "print(motorcycle.stop())\n"
   ]
  },
  {
   "cell_type": "code",
   "execution_count": null,
   "id": "661546d5-1ae9-455e-995a-0de3cb5efa4d",
   "metadata": {},
   "outputs": [],
   "source": [
    "#question 12"
   ]
  },
  {
   "cell_type": "markdown",
   "id": "0582236e-8c15-4151-bc32-3b7524b057f5",
   "metadata": {},
   "source": [
    "Abstract properties are used to define properties that must be implemented in child classes. These properties are defined using the @property decorator along with @abstractmethod."
   ]
  },
  {
   "cell_type": "code",
   "execution_count": 73,
   "id": "504519a7-fe54-4b40-9fe6-597aeae4acbe",
   "metadata": {},
   "outputs": [
    {
     "name": "stdout",
     "output_type": "stream",
     "text": [
      "50000\n"
     ]
    }
   ],
   "source": [
    "from abc import ABC, abstractmethod\n",
    "\n",
    "class Employee(ABC):\n",
    "    @property\n",
    "    @abstractmethod\n",
    "    def salary(self):\n",
    "        pass\n",
    "\n",
    "class Manager(Employee):\n",
    "    @property\n",
    "    def salary(self):\n",
    "        return 50000\n",
    "\n",
    "manager = Manager()\n",
    "print(manager.salary)  \n"
   ]
  },
  {
   "cell_type": "code",
   "execution_count": null,
   "id": "466ffd15-62a5-48cf-9499-e52fe84d6608",
   "metadata": {},
   "outputs": [],
   "source": [
    "#question 13"
   ]
  },
  {
   "cell_type": "code",
   "execution_count": 74,
   "id": "e59c239d-3df2-4f87-8cc3-43a5815b7997",
   "metadata": {},
   "outputs": [
    {
     "name": "stdout",
     "output_type": "stream",
     "text": [
      "Manager earns $80,000 per year.\n",
      "Developer earns $70,000 per year.\n",
      "Designer earns $60,000 per year.\n"
     ]
    }
   ],
   "source": [
    "from abc import ABC, abstractmethod\n",
    "\n",
    "class Employee(ABC):\n",
    "    @abstractmethod\n",
    "    def get_salary(self):\n",
    "        pass\n",
    "\n",
    "class Manager(Employee):\n",
    "    def get_salary(self):\n",
    "        return \"Manager earns $80,000 per year.\"\n",
    "\n",
    "class Developer(Employee):\n",
    "    def get_salary(self):\n",
    "        return \"Developer earns $70,000 per year.\"\n",
    "\n",
    "class Designer(Employee):\n",
    "    def get_salary(self):\n",
    "        return \"Designer earns $60,000 per year.\"\n",
    "\n",
    "# Example\n",
    "employees = [Manager(), Developer(), Designer()]\n",
    "for emp in employees:\n",
    "    print(emp.get_salary())\n"
   ]
  },
  {
   "cell_type": "code",
   "execution_count": null,
   "id": "11c3f77a-313b-4ee9-b39e-84a5a5e08fc8",
   "metadata": {},
   "outputs": [],
   "source": [
    "#question 14"
   ]
  },
  {
   "cell_type": "markdown",
   "id": "96972085-8b3c-4e1a-8237-66702b3808bd",
   "metadata": {},
   "source": [
    "ABSTRACT CLASSES:\n",
    "\n",
    "1.Definition: Cannot be instantiated; designed to be inherited.\n",
    "2.Instantiation: Cannot create objects directly.\n",
    "3.Abstract Methods: Must have at least one abstract method, which is not implemented.\n",
    "4. Purpose: Provides a blueprint for subclasses to follow and implement the abstract methods.\n",
    "5. Example: Class with abstract methods like sound() in Animal.\n",
    "\n",
    "CONCRETE CLASSES :\n",
    "\n",
    "1.Definition: Can be instantiated; fully implemented.\n",
    "2.Instantiation: Can create objects directly.\n",
    "3.Methods: All methods are implemented.\n",
    "4.Purpose: Represents fully functional objects.\n",
    "5.Example: Class like Dog with fully implemented sound() and sleep() methods.\n"
   ]
  },
  {
   "cell_type": "code",
   "execution_count": null,
   "id": "8f86831c-9eec-4db3-b595-19047608f54b",
   "metadata": {},
   "outputs": [],
   "source": [
    "#question 15"
   ]
  },
  {
   "cell_type": "markdown",
   "id": "61d12e12-6610-48be-9026-c613512dc445",
   "metadata": {},
   "source": [
    "Abstract Data Types (ADTs) define a data structure by its behavior (operations) rather than its implementation. For instance, a stack is defined by its operations (push, pop, etc.), not by how it is implemented (array, linked list, etc.)."
   ]
  },
  {
   "cell_type": "code",
   "execution_count": 75,
   "id": "8ba9be47-3e33-4d6c-8634-ab5e0d28f7a5",
   "metadata": {},
   "outputs": [],
   "source": [
    "class Stack:\n",
    "    def __init__(self):\n",
    "        self.stack = []\n",
    "\n",
    "    def push(self, item):\n",
    "        self.stack.append(item)\n",
    "\n",
    "    def pop(self):\n",
    "        return self.stack.pop() if self.stack else None"
   ]
  },
  {
   "cell_type": "code",
   "execution_count": null,
   "id": "a44a1487-3eb3-4f68-a02c-3960412a2745",
   "metadata": {},
   "outputs": [],
   "source": [
    "#question 16"
   ]
  },
  {
   "cell_type": "code",
   "execution_count": 76,
   "id": "6a6e70d9-9f3a-4190-a99f-d4e67971a3cb",
   "metadata": {},
   "outputs": [
    {
     "name": "stdout",
     "output_type": "stream",
     "text": [
      "Laptop is powering on.\n",
      "Desktop is shutting down.\n"
     ]
    }
   ],
   "source": [
    "from abc import ABC, abstractmethod\n",
    "\n",
    "class Computer(ABC):\n",
    "    @abstractmethod\n",
    "    def power_on(self):\n",
    "        pass\n",
    "\n",
    "    @abstractmethod\n",
    "    def shutdown(self):\n",
    "        pass\n",
    "\n",
    "class Laptop(Computer):\n",
    "    def power_on(self):\n",
    "        return \"Laptop is powering on.\"\n",
    "\n",
    "    def shutdown(self):\n",
    "        return \"Laptop is shutting down.\"\n",
    "\n",
    "class Desktop(Computer):\n",
    "    def power_on(self):\n",
    "        return \"Desktop is powering on.\"\n",
    "\n",
    "    def shutdown(self):\n",
    "        return \"Desktop is shutting down.\"\n",
    "\n",
    "# Example\n",
    "laptop = Laptop()\n",
    "desktop = Desktop()\n",
    "\n",
    "print(laptop.power_on())\n",
    "print(desktop.shutdown())\n"
   ]
  },
  {
   "cell_type": "code",
   "execution_count": null,
   "id": "73fc6649-4e16-4c07-a8be-bacd37c7fed1",
   "metadata": {},
   "outputs": [],
   "source": [
    "#question 17"
   ]
  },
  {
   "cell_type": "markdown",
   "id": "5e471d16-580f-416e-bfc1-3392b9aa1373",
   "metadata": {},
   "source": [
    "1. Improved Code Organization :  By defining clear interfaces, abstraction helps break down complex systems into smaller, manageable components.\n",
    "2. Team Collaboration :  Developers can work on individual modules without needing to understand the entire system.\n",
    "3. Flexibility : Abstraction allows changes to implementation without affecting other parts of the code.\n",
    "4. Reusability :  Abstract classes provide reusable templates for similar objects.\n",
    "5. Error Reduction : Enforcing method implementation ensures consistency across modules."
   ]
  },
  {
   "cell_type": "code",
   "execution_count": null,
   "id": "1571aef9-a663-494e-9bf6-d341f1551a1d",
   "metadata": {},
   "outputs": [],
   "source": [
    "#question 18"
   ]
  },
  {
   "cell_type": "markdown",
   "id": "3082a84c-8d7a-4bb9-a5a3-69ff69fa8015",
   "metadata": {},
   "source": [
    "Reusability : Abstract base classes act as templates, ensuring a consistent interface that can be reused across multiple classes.\n",
    "\n",
    "Modularity : By focusing on high-level functionality, abstraction promotes the separation of concerns, making the codebase more modular."
   ]
  },
  {
   "cell_type": "code",
   "execution_count": null,
   "id": "14be3ee0-123d-46ff-8a52-e711342f5c29",
   "metadata": {},
   "outputs": [],
   "source": [
    "#question 19"
   ]
  },
  {
   "cell_type": "code",
   "execution_count": 77,
   "id": "64edf3bf-d5df-4834-a570-5b32ef480917",
   "metadata": {},
   "outputs": [
    {
     "name": "stdout",
     "output_type": "stream",
     "text": [
      "Book '1984' added to the library.\n",
      "You borrowed '1984'.\n"
     ]
    }
   ],
   "source": [
    "from abc import ABC, abstractmethod\n",
    "\n",
    "class Library(ABC):\n",
    "    @abstractmethod\n",
    "    def add_book(self, title, author):\n",
    "        pass\n",
    "\n",
    "    @abstractmethod\n",
    "    def borrow_book(self, title):\n",
    "        pass\n",
    "\n",
    "class PublicLibrary(Library):\n",
    "    def __init__(self):\n",
    "        self.books = {}\n",
    "\n",
    "    def add_book(self, title, author):\n",
    "        self.books[title] = author\n",
    "        print(f\"Book '{title}' added to the library.\")\n",
    "\n",
    "    def borrow_book(self, title):\n",
    "        if title in self.books:\n",
    "            print(f\"You borrowed '{title}'.\")\n",
    "            del self.books[title]\n",
    "        else:\n",
    "            print(f\"'{title}' is not available.\")\n",
    "\n",
    "# Example\n",
    "library = PublicLibrary()\n",
    "library.add_book(\"1984\", \"George Orwell\")\n",
    "library.borrow_book(\"1984\")\n"
   ]
  },
  {
   "cell_type": "code",
   "execution_count": null,
   "id": "531b46ef-d698-478f-ab64-597f1fa79f66",
   "metadata": {},
   "outputs": [],
   "source": [
    "#Question 20"
   ]
  },
  {
   "cell_type": "markdown",
   "id": "7d264243-8a89-4dba-a413-780b28488490",
   "metadata": {},
   "source": [
    "Method Abstraction is the process of defining methods (functions) in a way that hides their implementation details and only exposes their functionality. In Python, method abstraction is achieved through abstract methods in abstract classes. It allows a developer to focus on what a method does rather than how it does it.\n",
    "\n",
    "RELATION TO POLYMORPHISM :\n",
    "1. Polymorphism via abstract methods\n",
    "2. Dynamic method resolution\n",
    "3. flexibility and Scalability\n"
   ]
  },
  {
   "cell_type": "code",
   "execution_count": null,
   "id": "734757a5-8b93-4fff-91d6-5475e228bcd9",
   "metadata": {},
   "outputs": [],
   "source": [
    "# COMPOSITION"
   ]
  },
  {
   "cell_type": "code",
   "execution_count": null,
   "id": "5768d035-a3e1-4693-b0ff-eff447c02e47",
   "metadata": {},
   "outputs": [],
   "source": [
    "#question 1"
   ]
  },
  {
   "cell_type": "markdown",
   "id": "65ec69a8-1a12-4c7c-a133-fc3381136e21",
   "metadata": {},
   "source": [
    "Composition refers to building complex objects by combining simpler ones. In Python, it’s done by creating instances of other classes as attributes within a class.\n",
    "It allows you to create more flexible and reusable code, as objects can \"contain\" other objects."
   ]
  },
  {
   "cell_type": "code",
   "execution_count": null,
   "id": "ff273b6e-b1b7-49fd-a3c2-3d331efaa066",
   "metadata": {},
   "outputs": [],
   "source": [
    "#question 2"
   ]
  },
  {
   "cell_type": "markdown",
   "id": "f3721182-9241-4a23-8973-f72088c14e20",
   "metadata": {},
   "source": [
    "COMPOSITION : A \"has-a\" relationship where one object is composed of other objects (e.g., a Car has an Engine).\n",
    "INHERITANCE :  An \"is-a\" relationship where a class inherits from another class, gaining its properties and methods (e.g., a Dog is an Animal)."
   ]
  },
  {
   "cell_type": "code",
   "execution_count": null,
   "id": "4ed1caa2-289f-424d-8db4-0b7256add804",
   "metadata": {},
   "outputs": [],
   "source": [
    "#question 3"
   ]
  },
  {
   "cell_type": "code",
   "execution_count": 78,
   "id": "199f0590-5cc8-44e8-9c29-40a6d119f71c",
   "metadata": {},
   "outputs": [
    {
     "name": "stdout",
     "output_type": "stream",
     "text": [
      "Harry Potter\n",
      "J.K. Rowling\n"
     ]
    }
   ],
   "source": [
    "class Author:\n",
    "    def __init__(self, name, birthdate):\n",
    "        self.name = name\n",
    "        self.birthdate = birthdate\n",
    "\n",
    "class Book:\n",
    "    def __init__(self, title, author):\n",
    "        self.title = title\n",
    "        self.author = author \n",
    "\n",
    "author = Author(\"J.K. Rowling\", \"1965-07-31\")\n",
    "book = Book(\"Harry Potter\", author)\n",
    "\n",
    "print(book.title) \n",
    "print(book.author.name) "
   ]
  },
  {
   "cell_type": "code",
   "execution_count": null,
   "id": "05a79ae6-500b-464a-87fa-0a1fca179ee7",
   "metadata": {},
   "outputs": [],
   "source": [
    "#question 4"
   ]
  },
  {
   "cell_type": "markdown",
   "id": "379e482e-8796-4551-b03b-90d6c75cd4e7",
   "metadata": {},
   "source": [
    "1. Flexibility : Composition allows you to easily swap or replace components of an object without affecting other parts of the system.\n",
    "2. REusability : You can reuse components in different contexts.\n",
    "3. Avoid the issues of deep inheritance hierarcies like tight coupling and rigid structures."
   ]
  },
  {
   "cell_type": "code",
   "execution_count": null,
   "id": "4b0d6925-21d9-45ed-a088-3b7b50c978c6",
   "metadata": {},
   "outputs": [],
   "source": [
    "#question 5"
   ]
  },
  {
   "cell_type": "markdown",
   "id": "ccbfe9d6-5a85-429e-8a9e-5664951f6f9c",
   "metadata": {},
   "source": [
    "You implement composition by including instances of other classes as attributes inside a class.\n",
    "Example: A Library class might contain multiple Book instances."
   ]
  },
  {
   "cell_type": "code",
   "execution_count": null,
   "id": "00b97d85-749a-4829-9a24-1e7b5ac87113",
   "metadata": {},
   "outputs": [],
   "source": [
    "#question 6"
   ]
  },
  {
   "cell_type": "code",
   "execution_count": 79,
   "id": "322a43cf-501a-4627-937c-9e5011f79139",
   "metadata": {},
   "outputs": [],
   "source": [
    "class Song:\n",
    "    def __init__(self, title, artist):\n",
    "        self.title = title\n",
    "        self.artist = artist\n",
    "\n",
    "class Playlist:\n",
    "    def __init__(self, name):\n",
    "        self.name = name\n",
    "        self.songs = []\n",
    "\n",
    "    def add_song(self, song):\n",
    "        self.songs.append(song)\n",
    "\n",
    "# Example \n",
    "playlist = Playlist(\"My Playlist\")\n",
    "song1 = Song(\"Song 1\", \"Artist 1\")\n",
    "song2 = Song(\"Song 2\", \"Artist 2\")\n",
    "playlist.add_song(song1)\n",
    "playlist.add_song(song2)\n"
   ]
  },
  {
   "cell_type": "code",
   "execution_count": null,
   "id": "10b7df63-f63e-43d2-8051-4eefe1be8e85",
   "metadata": {},
   "outputs": [],
   "source": [
    "#question 7"
   ]
  },
  {
   "cell_type": "markdown",
   "id": "02e19e6c-2374-4b24-a1dc-65edefaccb55",
   "metadata": {},
   "source": [
    "In composition, one object \"has-a\" another. For instance, a Car \"has-an\" Engine. This relationship allows for more modular designs, where each component can be developed and modified independently."
   ]
  },
  {
   "cell_type": "code",
   "execution_count": null,
   "id": "b0ef1b52-b860-4566-82e4-3dbd3fbd0ca8",
   "metadata": {},
   "outputs": [],
   "source": [
    "#question 8"
   ]
  },
  {
   "cell_type": "code",
   "execution_count": 80,
   "id": "01aa0d35-affd-45fa-af99-3734363ee292",
   "metadata": {},
   "outputs": [],
   "source": [
    "class CPU:\n",
    "    def __init__(self, model):\n",
    "        self.model = model\n",
    "\n",
    "class RAM:\n",
    "    def __init__(self, size):\n",
    "        self.size = size\n",
    "\n",
    "class Storage:\n",
    "    def __init__(self, capacity):\n",
    "        self.capacity = capacity\n",
    "\n",
    "class Computer:\n",
    "    def __init__(self, cpu, ram, storage):\n",
    "        self.cpu = cpu\n",
    "        self.ram = ram\n",
    "        self.storage = storage\n",
    "\n",
    "cpu = CPU(\"Intel i7\")\n",
    "ram = RAM(\"16GB\")\n",
    "storage = Storage(\"1TB SSD\")\n",
    "computer = Computer(cpu, ram, storage)\n"
   ]
  },
  {
   "cell_type": "code",
   "execution_count": null,
   "id": "7ed4aa7d-434f-44c9-ac5b-7014a9666b32",
   "metadata": {},
   "outputs": [],
   "source": [
    "#question 9"
   ]
  },
  {
   "cell_type": "markdown",
   "id": "b96a65c2-b982-4082-985d-dad1dcdd2b3c",
   "metadata": {},
   "source": [
    "Delegation is when an object relies on another object to perform certain tasks. In composition, a class can delegate behavior to the objects it contains, simplifying its design.\n",
    "Example: A Printer class can delegate the printing task to a PrintEngine class, making the Printer class simpler."
   ]
  },
  {
   "cell_type": "code",
   "execution_count": null,
   "id": "3fadeaaa-4810-449d-b6f3-91cd32bd67be",
   "metadata": {},
   "outputs": [],
   "source": [
    "#question 10"
   ]
  },
  {
   "cell_type": "code",
   "execution_count": 81,
   "id": "f8075798-c199-46d1-9f30-c869c95db2bb",
   "metadata": {},
   "outputs": [],
   "source": [
    "class Engine:\n",
    "    def __init__(self, type_):\n",
    "        self.type = type_\n",
    "\n",
    "class Wheel:\n",
    "    def __init__(self, size):\n",
    "        self.size = size\n",
    "\n",
    "class Transmission:\n",
    "    def __init__(self, type_):\n",
    "        self.type = type_\n",
    "\n",
    "class Car:\n",
    "    def __init__(self, engine, wheels, transmission):\n",
    "        self.engine = engine\n",
    "        self.wheels = wheels\n",
    "        self.transmission = transmission\n",
    "\n",
    "# Creating components and car\n",
    "engine = Engine(\"V8\")\n",
    "wheels = [Wheel(\"18 inch\") for _ in range(4)]\n",
    "transmission = Transmission(\"Automatic\")\n",
    "car = Car(engine, wheels, transmission)\n"
   ]
  },
  {
   "cell_type": "code",
   "execution_count": null,
   "id": "7923b662-1adf-42bc-8ee8-e261aa63a9ea",
   "metadata": {},
   "outputs": [],
   "source": [
    "#question 11"
   ]
  },
  {
   "cell_type": "markdown",
   "id": "8ee1a454-2bf1-4686-a194-ae6052cd443d",
   "metadata": {},
   "source": [
    "In Python, you can use encapsulation to hide the internal details of an object by making the internal data or methods private (using an underscore _ or double underscore __). This hides the implementation from the outside world, exposing only necessary methods. For abstraction, you define methods that provide the required functionality while hiding the complexity behind them."
   ]
  },
  {
   "cell_type": "code",
   "execution_count": 82,
   "id": "c7f273f7-7fa0-43e9-acff-21f260d9b591",
   "metadata": {},
   "outputs": [],
   "source": [
    "class BankAccount:\n",
    "    def __init__(self, balance):\n",
    "        self.__balance = balance \n",
    "\n",
    "    def deposit(self, amount):\n",
    "        if amount > 0:\n",
    "            self.__balance += amount\n",
    "\n",
    "    def withdraw(self, amount):\n",
    "        if 0 < amount <= self.__balance:\n",
    "            self.__balance -= amount\n",
    "\n",
    "    def get_balance(self):\n",
    "        return self.__balance\n"
   ]
  },
  {
   "cell_type": "code",
   "execution_count": null,
   "id": "1760c21f-bec1-44b4-b4d2-1a3b535d6ad0",
   "metadata": {},
   "outputs": [],
   "source": [
    "#question 12"
   ]
  },
  {
   "cell_type": "code",
   "execution_count": 84,
   "id": "a03bcc62-021d-4d9d-b781-d6ed393a1737",
   "metadata": {},
   "outputs": [],
   "source": [
    "class Student:\n",
    "    def __init__(self, name):\n",
    "        self.name = name\n",
    "\n",
    "class Instructor:\n",
    "    def __init__(self, name):\n",
    "        self.name = name\n",
    "\n",
    "class CourseMaterial:\n",
    "    def __init__(self, title):\n",
    "        self.title = title\n",
    "\n",
    "class UniversityCourse:\n",
    "    def __init__(self, course_name, instructor, students, materials):\n",
    "        self.course_name = course_name\n",
    "        self.instructor = instructor\n",
    "        self.students = students\n",
    "        self.materials = materials\n",
    "\n",
    "instructor = Instructor(\"Dr. Smith\")\n",
    "students = [Student(\"Ali\"), Student(\"Bob\")]\n",
    "materials = [CourseMaterial(\"Introduction to Python\"), CourseMaterial(\"Advanced Python\")]\n",
    "course = UniversityCourse(\"Python Programming\", instructor, students, materials)\n"
   ]
  },
  {
   "cell_type": "code",
   "execution_count": null,
   "id": "73d82ba4-38e4-4206-8915-18d4b4fcc5e6",
   "metadata": {},
   "outputs": [],
   "source": [
    "#question 13"
   ]
  },
  {
   "cell_type": "markdown",
   "id": "fe775599-1354-48d2-9bb7-bade0f8b5cf9",
   "metadata": {},
   "source": [
    "INCREASED COMPLEXITY : Composition can make the design more complex, as you have to deal with multiple objects and their interactions.\n",
    "TIGHT COUPLING :  If objects are heavily composed of one another, changing one object might affect others, creating a tightly coupled system. This reduces flexibility and maintainability."
   ]
  },
  {
   "cell_type": "code",
   "execution_count": null,
   "id": "c3098b55-d4b4-46a4-bba9-53d860fd4d68",
   "metadata": {},
   "outputs": [],
   "source": [
    "#question 14"
   ]
  },
  {
   "cell_type": "code",
   "execution_count": 85,
   "id": "7d6fa15a-2923-4527-b126-b11b02df2148",
   "metadata": {},
   "outputs": [],
   "source": [
    "class Ingredient:\n",
    "    def __init__(self, name):\n",
    "        self.name = name\n",
    "\n",
    "class Dish:\n",
    "    def __init__(self, name, ingredients):\n",
    "        self.name = name\n",
    "        self.ingredients = ingredients\n",
    "\n",
    "class Menu:\n",
    "    def __init__(self, name, dishes):\n",
    "        self.name = name\n",
    "        self.dishes = dishes\n",
    "\n",
    "cheese = Ingredient(\"Cheese\")\n",
    "tomato = Ingredient(\"Tomato\")\n",
    "pizza = Dish(\"Pizza\", [cheese, tomato])\n",
    "menu = Menu(\"Dinner Menu\", [pizza])\n"
   ]
  },
  {
   "cell_type": "code",
   "execution_count": null,
   "id": "287432a1-cc22-4cb0-8b52-24a917111f84",
   "metadata": {},
   "outputs": [],
   "source": [
    "#question 15"
   ]
  },
  {
   "cell_type": "markdown",
   "id": "14da5f3d-6975-4a22-af79-0237456329f7",
   "metadata": {},
   "source": [
    "Composition enhances maintainability by allowing objects to be easily replaced or updated without affecting other parts of the system. Since objects are independent, you can update one without needing to alter the entire system, improving modularity."
   ]
  },
  {
   "cell_type": "code",
   "execution_count": null,
   "id": "2b4eb3c7-7952-4870-8000-bdabca4278f1",
   "metadata": {},
   "outputs": [],
   "source": [
    "#question 16"
   ]
  },
  {
   "cell_type": "code",
   "execution_count": 86,
   "id": "8585aca8-5afa-4d5f-b452-ae10094d60fc",
   "metadata": {},
   "outputs": [],
   "source": [
    "class Weapon:\n",
    "    def __init__(self, name, damage):\n",
    "        self.name = name\n",
    "        self.damage = damage\n",
    "\n",
    "class Armor:\n",
    "    def __init__(self, name, defense):\n",
    "        self.name = name\n",
    "        self.defense = defense\n",
    "\n",
    "class Inventory:\n",
    "    def __init__(self, items):\n",
    "        self.items = items\n",
    "\n",
    "class GameCharacter:\n",
    "    def __init__(self, name, weapon, armor, inventory):\n",
    "        self.name = name\n",
    "        self.weapon = weapon\n",
    "        self.armor = armor\n",
    "        self.inventory = inventory\n",
    "\n",
    "sword = Weapon(\"Sword\", 50)\n",
    "shield = Armor(\"Shield\", 30)\n",
    "inventory = Inventory([\"Potion\", \"Food\"])\n",
    "character = GameCharacter(\"Hero\", sword, shield, inventory)\n"
   ]
  },
  {
   "cell_type": "code",
   "execution_count": null,
   "id": "28c682a2-716c-4de3-a5bb-0b163f881fad",
   "metadata": {},
   "outputs": [],
   "source": [
    "#question 17"
   ]
  },
  {
   "cell_type": "markdown",
   "id": "d7d8b878-2949-4cd7-b1a1-18982ebae990",
   "metadata": {},
   "source": [
    "AGGREGATION  is a weaker form of composition where the lifetime of the composed objects is not controlled by the parent object. The composed objects can exist independently.\n",
    "\n",
    "COMPOSITION is stronger because the composed objects cannot exist without the parent object. If the parent is destroyed, so are the composed objects."
   ]
  },
  {
   "cell_type": "code",
   "execution_count": null,
   "id": "4143d2a2-8eb6-4b82-9cad-6d87d16dd05d",
   "metadata": {},
   "outputs": [],
   "source": [
    "#question 18"
   ]
  },
  {
   "cell_type": "code",
   "execution_count": 87,
   "id": "7807b2e5-7601-45ec-92f5-705c62937480",
   "metadata": {},
   "outputs": [],
   "source": [
    "class Room:\n",
    "    def __init__(self, name):\n",
    "        self.name = name\n",
    "\n",
    "class Furniture:\n",
    "    def __init__(self, name):\n",
    "        self.name = name\n",
    "\n",
    "class Appliance:\n",
    "    def __init__(self, name):\n",
    "        self.name = name\n",
    "\n",
    "class House:\n",
    "    def __init__(self, rooms, furniture, appliances):\n",
    "        self.rooms = rooms\n",
    "        self.furniture = furniture\n",
    "        self.appliances = appliances\n",
    "\n",
    "living_room = Room(\"Living Room\")\n",
    "sofa = Furniture(\"Sofa\")\n",
    "fridge = Appliance(\"Fridge\")\n",
    "house = House([living_room], [sofa], [fridge])\n"
   ]
  },
  {
   "cell_type": "code",
   "execution_count": null,
   "id": "3caaa641-0e9a-45f1-b028-862ea354dd17",
   "metadata": {},
   "outputs": [],
   "source": [
    "#question 19"
   ]
  },
  {
   "cell_type": "markdown",
   "id": "44944e90-b945-49c6-bb1d-0044312cb600",
   "metadata": {},
   "source": [
    "You can achieve flexibility by allowing composed objects to be replaced at runtime. This can be done by assigning new objects to the composition's attributes dynamically."
   ]
  },
  {
   "cell_type": "code",
   "execution_count": null,
   "id": "826ff966-3d11-4b9f-9a4e-b8cc75f6d222",
   "metadata": {},
   "outputs": [],
   "source": [
    "#question 20"
   ]
  },
  {
   "cell_type": "code",
   "execution_count": 89,
   "id": "404f12f4-8e2b-49eb-a62d-fd2fde55ab5a",
   "metadata": {},
   "outputs": [],
   "source": [
    "class Comment:\n",
    "    def __init__(self, content):\n",
    "        self.content = content\n",
    "\n",
    "class Post:\n",
    "    def __init__(self, content, comments):\n",
    "        self.content = content\n",
    "        self.comments = comments\n",
    "\n",
    "class User:\n",
    "    def __init__(self, username, posts):\n",
    "        self.username = username\n",
    "        self.posts = posts\n",
    "\n",
    "comment1 = Comment(\"Great post!\")\n",
    "post1 = Post(\"This is my first post!\", [comment1])\n",
    "user = User(\"john_doe\", [post1])\n"
   ]
  }
 ],
 "metadata": {
  "kernelspec": {
   "display_name": "Python 3 (ipykernel)",
   "language": "python",
   "name": "python3"
  },
  "language_info": {
   "codemirror_mode": {
    "name": "ipython",
    "version": 3
   },
   "file_extension": ".py",
   "mimetype": "text/x-python",
   "name": "python",
   "nbconvert_exporter": "python",
   "pygments_lexer": "ipython3",
   "version": "3.12.1"
  }
 },
 "nbformat": 4,
 "nbformat_minor": 5
}
